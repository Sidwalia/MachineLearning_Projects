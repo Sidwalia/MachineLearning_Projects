{
  "cells": [
    {
      "cell_type": "markdown",
      "metadata": {
        "id": "oZFTCX4DqmRO"
      },
      "source": [
        "# Preliminaries: Inspect and Set up environment\n",
        "\n",
        "No action is required on your part in this section. These cells print out helpful information about the environment, just in case."
      ]
    },
    {
      "cell_type": "code",
      "execution_count": null,
      "metadata": {
        "id": "xj34Jz-Do_oK"
      },
      "outputs": [],
      "source": [
        "import datetime\n",
        "import pandas as pd\n",
        "import numpy as np\n",
        "import sklearn\n",
        "import matplotlib.pyplot as plt\n",
        "%matplotlib inline \n",
        "\n",
        "\n",
        "from sklearn.metrics import silhouette_score, silhouette_samples\n",
        "from sklearn.preprocessing import StandardScaler\n",
        "from sklearn.cluster import KMeans, DBSCAN, AgglomerativeClustering\n",
        "from sklearn.mixture import GaussianMixture\n"
      ]
    },
    {
      "cell_type": "code",
      "execution_count": null,
      "metadata": {
        "colab": {
          "base_uri": "https://localhost:8080/"
        },
        "id": "mqQ_XOKyXTS6",
        "outputId": "832633b7-f038-4438-cb10-4cacd723c86d"
      },
      "outputs": [
        {
          "output_type": "stream",
          "name": "stdout",
          "text": [
            "2021-12-09 11:10:30.111613\n"
          ]
        }
      ],
      "source": [
        "print(datetime.datetime.now())"
      ]
    },
    {
      "cell_type": "code",
      "execution_count": null,
      "metadata": {
        "colab": {
          "base_uri": "https://localhost:8080/"
        },
        "id": "LfOMt1lErLhZ",
        "outputId": "a9d439a7-f032-4bea-953f-0ab57ced49e4"
      },
      "outputs": [
        {
          "output_type": "stream",
          "name": "stdout",
          "text": [
            "/usr/local/bin/python\n"
          ]
        }
      ],
      "source": [
        "!which python"
      ]
    },
    {
      "cell_type": "code",
      "execution_count": null,
      "metadata": {
        "colab": {
          "base_uri": "https://localhost:8080/"
        },
        "id": "aub2w1-arM5K",
        "outputId": "11a4efd3-2405-4f41-c6cb-f4340cb975a6"
      },
      "outputs": [
        {
          "output_type": "stream",
          "name": "stdout",
          "text": [
            "Python 3.7.12\n"
          ]
        }
      ],
      "source": [
        "!python --version"
      ]
    },
    {
      "cell_type": "code",
      "execution_count": null,
      "metadata": {
        "colab": {
          "base_uri": "https://localhost:8080/"
        },
        "id": "E9Y_n_8UrO9i",
        "outputId": "46674961-4307-4f7e-8e27-b2d5188a2c35"
      },
      "outputs": [
        {
          "output_type": "stream",
          "name": "stdout",
          "text": [
            "/env/python\n"
          ]
        }
      ],
      "source": [
        "!echo $PYTHONPATH"
      ]
    },
    {
      "cell_type": "code",
      "execution_count": null,
      "metadata": {
        "id": "-qyD7Jl0Gw1E"
      },
      "outputs": [],
      "source": [
        "import matplotlib.pyplot as plt\n",
        "import seaborn as sns\n",
        "import matplotlib_inline"
      ]
    },
    {
      "cell_type": "markdown",
      "metadata": {
        "id": "RLlBjIyS2o54"
      },
      "source": [
        "# Question 1: Uncle Steve's Diamonds"
      ]
    },
    {
      "cell_type": "markdown",
      "metadata": {
        "id": "qj1NSQelo_oN"
      },
      "source": [
        "## Instructions\n",
        "\n",
        "You work at a local jewelry store named *Uncle Steve's Diamonds*. You started as a janitor, but you’ve recently been promoted to senior data analyst! Congratulations.\n",
        "\n",
        "Uncle Steve, the store's owner, needs to better understand the store's customers. In particular, he wants to know what kind of customers shop at the store. He wants to know the main types of *customer personas*. Once he knows these, he will contemplate ways to better market to each persona, better satisfy each persona, better cater to each persona, increase the loyalty of each persona, etc. But first, he must know the personas.\n",
        "\n",
        "You want to help Uncle Steve. Using sneaky magic (and the help of Environics), you've collected four useful features for a subset of the customers: age, income, spending score (i.e., a score based on how much they’ve spent at the store in total), and savings (i.e., how much money they have in their personal bank account). \n",
        "\n",
        "**Your tasks**\n",
        "\n",
        "1. Pick a clustering algorithm (the [`sklearn.cluster`](https://scikit-learn.org/stable/modules/classes.html#module-sklearn.cluster) module has many good choices, including [`KMeans`](https://scikit-learn.org/stable/modules/generated/sklearn.cluster.KMeans.html#sklearn.cluster.KMeans), [`DBSCAN`](https://scikit-learn.org/stable/modules/generated/sklearn.cluster.DBSCAN.html#sklearn.cluster.DBSCAN), and [`AgglomerativeClustering`](https://scikit-learn.org/stable/modules/generated/sklearn.cluster.AgglomerativeClustering.html#sklearn.cluster.AgglomerativeClustering) (aka Hierarchical). (Note that another popular implementation of the hierarchical algorithm can be found in SciPy's [`scipy.cluster.hierarchy.linkage`](https://docs.scipy.org/doc/scipy/reference/generated/scipy.cluster.hierarchy.linkage.html).) Don't spend a lot of time thinking about which algorithm to choose - just pick one. Cluster the customers as best as you can, within reason. That is, try different feature preprocessing steps, hyperparameter values, and/or distance metrics. You don't need to try every single posssible combination, but try a few at least. Measure how good each  model configuration is by calculating an internal validation metric (e.g., [`calinski_harabasz_score`](https://scikit-learn.org/stable/modules/generated/sklearn.metrics.calinski_harabasz_score.html) or [`silhouette_score`](https://scikit-learn.org/stable/modules/generated/sklearn.metrics.silhouette_score.html#sklearn.metrics.silhouette_score)).\n",
        "2. You have some doubts - you're not sure if the algorithm you chose in part 1 is the best algorithm for this dataset/problem. Neither is Uncle Steve. So, choose a different algorithm (any!) and do it all again.\n",
        "3. Which clustering algorithm is \"better\" in this case? Think about charateristics of the algorithm like quality of results, ease of use, speed, interpretability, etc. Choose a winner and justify to Uncle Steve.\n",
        "4. Interpret the clusters of the winning model. That is, describe, in words, a *persona* that accurately depicts each cluster. Use statistics (e.g., cluster means/distributions), examples (e.g., exemplar instances from each cluster), and/or visualizations (e.g., relative importance plots, snakeplots) to get started. Human judgement and creativity will be necessary. This is where it all comes together. Be descripive and *help Uncle Steve understand his customers better*. Please!\n",
        "\n",
        "**Tips**\n",
        "\n",
        "- Since clustering is an unsupervised ML technique, you don't need to split the data into training/validation/test or anything like that. Phew!\n",
        "- On the flip side, since clustering is unsupervised, you will never know the \"true\" clusters, and so you will never know if a given algorithm is \"correct.\" There really is no notion of \"correctness\" - only \"usefullness.\"\n",
        "- Many online clustering tutorials (including some from Uncle Steve) create flashy visualizations of the clusters by plotting the instances on a 2-D graph and coloring each point by the cluster ID. This is really nice and all, but it can only work if your dataset only has exactly two features - no more, no less. This dataset has more than two features, so you cannot use this technique. (But that's OK - you don't need to use this technique.) \n",
        "- Must you use all four features in the clustering? Not necessarily, no. But \"throwing away\" quality data, for no reason, is unlikely to improve a model.\n",
        "- Some people have success applying a dimensionality reduction technique (like [`sklearn.decomposition.PCA`](https://scikit-learn.org/stable/modules/generated/sklearn.decomposition.PCA.html)) to the features before clustering. You may do this if you wish, although it may not be as helpful in this case because there are only four features to begin with.\n",
        "- If you apply a transformation (e.g., [`MinMaxScaler`](https://scikit-learn.org/stable/modules/generated/sklearn.preprocessing.MinMaxScaler.html) or [`StandardScaler`](https://scikit-learn.org/stable/modules/generated/sklearn.preprocessing.StandardScaler.html#sklearn.preprocessing.StandardScaler)) to the features before clustering, you may have difficulty interpretting the means of the clusters (e.g., what is a mean Age of 0.2234??). There are two options to fix this: first, you can always reverse a transformation with the `inverse_transform` method. Second, you can just use the original dataset (i.e., before any prepropoceesing) during the interpreation step.\n",
        "- You cannot change the distance metric for K-Means. (This is for theoretical reasons: K-Means only works/makes sense with Euclidean distance.\n"
      ]
    },
    {
      "cell_type": "markdown",
      "metadata": {
        "id": "Yww0-vtpOw7z"
      },
      "source": [
        "## 1.0: Load data "
      ]
    },
    {
      "cell_type": "code",
      "execution_count": null,
      "metadata": {
        "colab": {
          "base_uri": "https://localhost:8080/"
        },
        "id": "qVWx2c-DhQYo",
        "outputId": "90c1f519-88ff-4ca7-85bf-de6bc870e1d3"
      },
      "outputs": [
        {
          "output_type": "stream",
          "name": "stdout",
          "text": [
            "<class 'pandas.core.frame.DataFrame'>\n",
            "RangeIndex: 505 entries, 0 to 504\n",
            "Data columns (total 4 columns):\n",
            " #   Column         Non-Null Count  Dtype  \n",
            "---  ------         --------------  -----  \n",
            " 0   Age            505 non-null    int64  \n",
            " 1   Income         505 non-null    int64  \n",
            " 2   SpendingScore  505 non-null    float64\n",
            " 3   Savings        505 non-null    float64\n",
            "dtypes: float64(2), int64(2)\n",
            "memory usage: 15.9 KB\n",
            "   Age  Income  SpendingScore       Savings\n",
            "0   58   77769       0.791329   6559.829923\n",
            "1   59   81799       0.791082   5417.661426\n",
            "2   62   74751       0.702657   9258.992965\n",
            "3   59   74373       0.765680   7346.334504\n",
            "4   87   17760       0.348778  16869.507130\n"
          ]
        }
      ],
      "source": [
        "# DO NOT MODIFY THIS CELL\n",
        "df1 = pd.read_csv(\"https://drive.google.com/uc?export=download&id=1thHDCwQK3GijytoSSZNekAsItN_FGHtm\")\n",
        "df1.info()\n",
        "print(df1.head(5))"
      ]
    },
    {
      "cell_type": "markdown",
      "metadata": {
        "id": "R04NzckZKbG2"
      },
      "source": [
        "## 1.1: Preprocessing "
      ]
    },
    {
      "cell_type": "code",
      "execution_count": null,
      "metadata": {
        "colab": {
          "base_uri": "https://localhost:8080/"
        },
        "id": "M8O3K7ZBmmaX",
        "outputId": "d0c4a2c3-cf4e-48d6-e901-9a3989964d37"
      },
      "outputs": [
        {
          "output_type": "execute_result",
          "data": {
            "text/plain": [
              "Savings          0\n",
              "SpendingScore    0\n",
              "Income           0\n",
              "Age              0\n",
              "dtype: int64"
            ]
          },
          "metadata": {},
          "execution_count": 9
        }
      ],
      "source": [
        "# Check the number of missing values in the Dataset\n",
        "df1.isnull().sum().sort_values(ascending = False).head()"
      ]
    },
    {
      "cell_type": "code",
      "execution_count": null,
      "metadata": {
        "colab": {
          "base_uri": "https://localhost:8080/"
        },
        "id": "p90dy8xL6V_t",
        "outputId": "e21086db-be72-4102-88bc-2e10ca7942d3"
      },
      "outputs": [
        {
          "output_type": "execute_result",
          "data": {
            "text/plain": [
              "(505, 4)"
            ]
          },
          "metadata": {},
          "execution_count": 10
        }
      ],
      "source": [
        "df1.shape"
      ]
    },
    {
      "cell_type": "code",
      "execution_count": null,
      "metadata": {
        "colab": {
          "base_uri": "https://localhost:8080/",
          "height": 300
        },
        "id": "t-0VYz_w2j1Y",
        "outputId": "b511c9dd-529f-4d76-ce28-3a77e6b51854"
      },
      "outputs": [
        {
          "output_type": "execute_result",
          "data": {
            "text/html": [
              "<div>\n",
              "<style scoped>\n",
              "    .dataframe tbody tr th:only-of-type {\n",
              "        vertical-align: middle;\n",
              "    }\n",
              "\n",
              "    .dataframe tbody tr th {\n",
              "        vertical-align: top;\n",
              "    }\n",
              "\n",
              "    .dataframe thead th {\n",
              "        text-align: right;\n",
              "    }\n",
              "</style>\n",
              "<table border=\"1\" class=\"dataframe\">\n",
              "  <thead>\n",
              "    <tr style=\"text-align: right;\">\n",
              "      <th></th>\n",
              "      <th>Age</th>\n",
              "      <th>Income</th>\n",
              "      <th>SpendingScore</th>\n",
              "      <th>Savings</th>\n",
              "    </tr>\n",
              "  </thead>\n",
              "  <tbody>\n",
              "    <tr>\n",
              "      <th>count</th>\n",
              "      <td>505.000000</td>\n",
              "      <td>505.000000</td>\n",
              "      <td>505.000000</td>\n",
              "      <td>505.000000</td>\n",
              "    </tr>\n",
              "    <tr>\n",
              "      <th>mean</th>\n",
              "      <td>59.019802</td>\n",
              "      <td>75513.291089</td>\n",
              "      <td>0.505083</td>\n",
              "      <td>11862.455867</td>\n",
              "    </tr>\n",
              "    <tr>\n",
              "      <th>std</th>\n",
              "      <td>24.140043</td>\n",
              "      <td>35992.922184</td>\n",
              "      <td>0.259634</td>\n",
              "      <td>4949.229253</td>\n",
              "    </tr>\n",
              "    <tr>\n",
              "      <th>min</th>\n",
              "      <td>17.000000</td>\n",
              "      <td>12000.000000</td>\n",
              "      <td>0.000000</td>\n",
              "      <td>0.000000</td>\n",
              "    </tr>\n",
              "    <tr>\n",
              "      <th>25%</th>\n",
              "      <td>34.000000</td>\n",
              "      <td>34529.000000</td>\n",
              "      <td>0.304792</td>\n",
              "      <td>6828.709702</td>\n",
              "    </tr>\n",
              "    <tr>\n",
              "      <th>50%</th>\n",
              "      <td>59.000000</td>\n",
              "      <td>75078.000000</td>\n",
              "      <td>0.368215</td>\n",
              "      <td>14209.932802</td>\n",
              "    </tr>\n",
              "    <tr>\n",
              "      <th>75%</th>\n",
              "      <td>85.000000</td>\n",
              "      <td>107100.000000</td>\n",
              "      <td>0.768279</td>\n",
              "      <td>16047.268331</td>\n",
              "    </tr>\n",
              "    <tr>\n",
              "      <th>max</th>\n",
              "      <td>97.000000</td>\n",
              "      <td>142000.000000</td>\n",
              "      <td>1.000000</td>\n",
              "      <td>20000.000000</td>\n",
              "    </tr>\n",
              "  </tbody>\n",
              "</table>\n",
              "</div>"
            ],
            "text/plain": [
              "              Age         Income  SpendingScore       Savings\n",
              "count  505.000000     505.000000     505.000000    505.000000\n",
              "mean    59.019802   75513.291089       0.505083  11862.455867\n",
              "std     24.140043   35992.922184       0.259634   4949.229253\n",
              "min     17.000000   12000.000000       0.000000      0.000000\n",
              "25%     34.000000   34529.000000       0.304792   6828.709702\n",
              "50%     59.000000   75078.000000       0.368215  14209.932802\n",
              "75%     85.000000  107100.000000       0.768279  16047.268331\n",
              "max     97.000000  142000.000000       1.000000  20000.000000"
            ]
          },
          "metadata": {},
          "execution_count": 11
        }
      ],
      "source": [
        "df1.describe()"
      ]
    },
    {
      "cell_type": "markdown",
      "metadata": {
        "id": "wNoqpV1N2ZsC"
      },
      "source": [
        "**Exploratory Data Analysis Visualization**\n"
      ]
    },
    {
      "cell_type": "code",
      "execution_count": null,
      "metadata": {
        "colab": {
          "base_uri": "https://localhost:8080/",
          "height": 516
        },
        "id": "3XtxXDTp3MIu",
        "outputId": "69e7ec2c-1f0b-451f-b5ac-d4af35edc104"
      },
      "outputs": [
        {
          "output_type": "stream",
          "name": "stderr",
          "text": [
            "/usr/local/lib/python3.7/dist-packages/seaborn/regression.py:581: UserWarning: The `size` parameter has been renamed to `height`; please update your code.\n",
            "  warnings.warn(msg, UserWarning)\n"
          ]
        },
        {
          "output_type": "execute_result",
          "data": {
            "text/plain": [
              "<seaborn.axisgrid.FacetGrid at 0x7f2dc9bbde90>"
            ]
          },
          "metadata": {},
          "execution_count": 12
        },
        {
          "output_type": "display_data",
          "data": {
            "image/png": "[encoded data removed]",
            "text/plain": [
              "<Figure size 432x432 with 1 Axes>"
            ]
          },
          "metadata": {
            "needs_background": "light"
          }
        }
      ],
      "source": [
        "sns.lmplot(x=\"Age\", y= \"SpendingScore\", data= df1, fit_reg=False, size=6, aspect=1)"
      ]
    },
    {
      "cell_type": "code",
      "execution_count": null,
      "metadata": {
        "colab": {
          "base_uri": "https://localhost:8080/",
          "height": 516
        },
        "id": "N1-fu5Ob5BRy",
        "outputId": "672700ba-18e0-4b4e-d12e-a61d8b051840"
      },
      "outputs": [
        {
          "output_type": "stream",
          "name": "stderr",
          "text": [
            "/usr/local/lib/python3.7/dist-packages/seaborn/regression.py:581: UserWarning: The `size` parameter has been renamed to `height`; please update your code.\n",
            "  warnings.warn(msg, UserWarning)\n"
          ]
        },
        {
          "output_type": "execute_result",
          "data": {
            "text/plain": [
              "<seaborn.axisgrid.FacetGrid at 0x7f2dc1a5e290>"
            ]
          },
          "metadata": {},
          "execution_count": 13
        },
        {
          "output_type": "display_data",
          "data": {
            "image/png": "[encoded data removed]",
            "text/plain": [
              "<Figure size 432x432 with 1 Axes>"
            ]
          },
          "metadata": {
            "needs_background": "light"
          }
        }
      ],
      "source": [
        "sns.lmplot(x=\"Income\", y= \"SpendingScore\", data= df1, fit_reg=False, size=6, aspect=1)"
      ]
    },
    {
      "cell_type": "code",
      "execution_count": null,
      "metadata": {
        "colab": {
          "base_uri": "https://localhost:8080/",
          "height": 516
        },
        "id": "OmaW3j7Q5Mh2",
        "outputId": "566a1dd2-579d-4f85-8b8d-3278edc69816"
      },
      "outputs": [
        {
          "output_type": "stream",
          "name": "stderr",
          "text": [
            "/usr/local/lib/python3.7/dist-packages/seaborn/regression.py:581: UserWarning: The `size` parameter has been renamed to `height`; please update your code.\n",
            "  warnings.warn(msg, UserWarning)\n"
          ]
        },
        {
          "output_type": "execute_result",
          "data": {
            "text/plain": [
              "<seaborn.axisgrid.FacetGrid at 0x7f2dc15f3890>"
            ]
          },
          "metadata": {},
          "execution_count": 14
        },
        {
          "output_type": "display_data",
          "data": {
            "image/png": "[encoded data removed]",
            "text/plain": [
              "<Figure size 432x432 with 1 Axes>"
            ]
          },
          "metadata": {
            "needs_background": "light"
          }
        }
      ],
      "source": [
        "sns.lmplot(x=\"Savings\", y= \"SpendingScore\", data= df1, fit_reg=False, size=6, aspect=1)"
      ]
    },
    {
      "cell_type": "markdown",
      "metadata": {
        "id": "7GuKKq3X4rxV"
      },
      "source": [
        "# Scaling the Data, as the values some features is higher than others"
      ]
    },
    {
      "cell_type": "code",
      "execution_count": null,
      "metadata": {
        "id": "UgJj46ot39Jb"
      },
      "outputs": [],
      "source": [
        "for col in df1.columns:\n",
        "  avg = df1[col].mean()\n",
        "  sd = df1[col].std()\n",
        "  df1[col] = df1[col].apply(lambda x: (x-avg)/sd)"
      ]
    },
    {
      "cell_type": "code",
      "execution_count": null,
      "metadata": {
        "colab": {
          "base_uri": "https://localhost:8080/",
          "height": 423
        },
        "id": "1RGWFoR99cj0",
        "outputId": "a7997a0f-a69e-417a-ff60-a0c4b75860e5"
      },
      "outputs": [
        {
          "output_type": "execute_result",
          "data": {
            "text/html": [
              "<div>\n",
              "<style scoped>\n",
              "    .dataframe tbody tr th:only-of-type {\n",
              "        vertical-align: middle;\n",
              "    }\n",
              "\n",
              "    .dataframe tbody tr th {\n",
              "        vertical-align: top;\n",
              "    }\n",
              "\n",
              "    .dataframe thead th {\n",
              "        text-align: right;\n",
              "    }\n",
              "</style>\n",
              "<table border=\"1\" class=\"dataframe\">\n",
              "  <thead>\n",
              "    <tr style=\"text-align: right;\">\n",
              "      <th></th>\n",
              "      <th>Age</th>\n",
              "      <th>Income</th>\n",
              "      <th>SpendingScore</th>\n",
              "      <th>Savings</th>\n",
              "    </tr>\n",
              "  </thead>\n",
              "  <tbody>\n",
              "    <tr>\n",
              "      <th>0</th>\n",
              "      <td>-0.042245</td>\n",
              "      <td>0.062671</td>\n",
              "      <td>1.102499</td>\n",
              "      <td>-1.071404</td>\n",
              "    </tr>\n",
              "    <tr>\n",
              "      <th>1</th>\n",
              "      <td>-0.000820</td>\n",
              "      <td>0.174637</td>\n",
              "      <td>1.101549</td>\n",
              "      <td>-1.302181</td>\n",
              "    </tr>\n",
              "    <tr>\n",
              "      <th>2</th>\n",
              "      <td>0.123455</td>\n",
              "      <td>-0.021179</td>\n",
              "      <td>0.760973</td>\n",
              "      <td>-0.526034</td>\n",
              "    </tr>\n",
              "    <tr>\n",
              "      <th>3</th>\n",
              "      <td>-0.000820</td>\n",
              "      <td>-0.031681</td>\n",
              "      <td>1.003709</td>\n",
              "      <td>-0.912490</td>\n",
              "    </tr>\n",
              "    <tr>\n",
              "      <th>4</th>\n",
              "      <td>1.159078</td>\n",
              "      <td>-1.604574</td>\n",
              "      <td>-0.602022</td>\n",
              "      <td>1.011683</td>\n",
              "    </tr>\n",
              "    <tr>\n",
              "      <th>...</th>\n",
              "      <td>...</td>\n",
              "      <td>...</td>\n",
              "      <td>...</td>\n",
              "      <td>...</td>\n",
              "    </tr>\n",
              "    <tr>\n",
              "      <th>500</th>\n",
              "      <td>-1.284994</td>\n",
              "      <td>0.713827</td>\n",
              "      <td>-0.453108</td>\n",
              "      <td>0.621171</td>\n",
              "    </tr>\n",
              "    <tr>\n",
              "      <th>501</th>\n",
              "      <td>1.407628</td>\n",
              "      <td>-1.544173</td>\n",
              "      <td>-1.162955</td>\n",
              "      <td>1.233978</td>\n",
              "    </tr>\n",
              "    <tr>\n",
              "      <th>502</th>\n",
              "      <td>1.283353</td>\n",
              "      <td>-1.117339</td>\n",
              "      <td>-0.577482</td>\n",
              "      <td>0.854466</td>\n",
              "    </tr>\n",
              "    <tr>\n",
              "      <th>503</th>\n",
              "      <td>1.324778</td>\n",
              "      <td>-1.523419</td>\n",
              "      <td>-0.579291</td>\n",
              "      <td>1.321142</td>\n",
              "    </tr>\n",
              "    <tr>\n",
              "      <th>504</th>\n",
              "      <td>1.241928</td>\n",
              "      <td>-1.257089</td>\n",
              "      <td>-0.831066</td>\n",
              "      <td>0.509957</td>\n",
              "    </tr>\n",
              "  </tbody>\n",
              "</table>\n",
              "<p>505 rows × 4 columns</p>\n",
              "</div>"
            ],
            "text/plain": [
              "          Age    Income  SpendingScore   Savings\n",
              "0   -0.042245  0.062671       1.102499 -1.071404\n",
              "1   -0.000820  0.174637       1.101549 -1.302181\n",
              "2    0.123455 -0.021179       0.760973 -0.526034\n",
              "3   -0.000820 -0.031681       1.003709 -0.912490\n",
              "4    1.159078 -1.604574      -0.602022  1.011683\n",
              "..        ...       ...            ...       ...\n",
              "500 -1.284994  0.713827      -0.453108  0.621171\n",
              "501  1.407628 -1.544173      -1.162955  1.233978\n",
              "502  1.283353 -1.117339      -0.577482  0.854466\n",
              "503  1.324778 -1.523419      -0.579291  1.321142\n",
              "504  1.241928 -1.257089      -0.831066  0.509957\n",
              "\n",
              "[505 rows x 4 columns]"
            ]
          },
          "metadata": {},
          "execution_count": 16
        }
      ],
      "source": [
        "df1"
      ]
    },
    {
      "cell_type": "markdown",
      "metadata": {
        "id": "oEa05V0URlJI"
      },
      "source": [
        "# Implement K-means"
      ]
    },
    {
      "cell_type": "code",
      "execution_count": null,
      "metadata": {
        "id": "R-zJ00uyRvmk"
      },
      "outputs": [],
      "source": [
        "# Trying with K= 4 as during the EDA, I observed 4 different clusters in one of the graphs\n",
        "km = KMeans(n_clusters = 4)\n",
        "df1['cluster'] = km.fit_predict(df1)"
      ]
    },
    {
      "cell_type": "code",
      "execution_count": null,
      "metadata": {
        "colab": {
          "base_uri": "https://localhost:8080/",
          "height": 206
        },
        "id": "WwVz9q2sS0c5",
        "outputId": "9087ff0a-affb-43ac-d8c0-6c51940a6ee2"
      },
      "outputs": [
        {
          "output_type": "execute_result",
          "data": {
            "text/html": [
              "<div>\n",
              "<style scoped>\n",
              "    .dataframe tbody tr th:only-of-type {\n",
              "        vertical-align: middle;\n",
              "    }\n",
              "\n",
              "    .dataframe tbody tr th {\n",
              "        vertical-align: top;\n",
              "    }\n",
              "\n",
              "    .dataframe thead th {\n",
              "        text-align: right;\n",
              "    }\n",
              "</style>\n",
              "<table border=\"1\" class=\"dataframe\">\n",
              "  <thead>\n",
              "    <tr style=\"text-align: right;\">\n",
              "      <th></th>\n",
              "      <th>Age</th>\n",
              "      <th>Income</th>\n",
              "      <th>SpendingScore</th>\n",
              "      <th>Savings</th>\n",
              "      <th>cluster</th>\n",
              "    </tr>\n",
              "  </thead>\n",
              "  <tbody>\n",
              "    <tr>\n",
              "      <th>0</th>\n",
              "      <td>-0.042245</td>\n",
              "      <td>0.062671</td>\n",
              "      <td>1.102499</td>\n",
              "      <td>-1.071404</td>\n",
              "      <td>0</td>\n",
              "    </tr>\n",
              "    <tr>\n",
              "      <th>1</th>\n",
              "      <td>-0.000820</td>\n",
              "      <td>0.174637</td>\n",
              "      <td>1.101549</td>\n",
              "      <td>-1.302181</td>\n",
              "      <td>0</td>\n",
              "    </tr>\n",
              "    <tr>\n",
              "      <th>2</th>\n",
              "      <td>0.123455</td>\n",
              "      <td>-0.021179</td>\n",
              "      <td>0.760973</td>\n",
              "      <td>-0.526034</td>\n",
              "      <td>0</td>\n",
              "    </tr>\n",
              "    <tr>\n",
              "      <th>3</th>\n",
              "      <td>-0.000820</td>\n",
              "      <td>-0.031681</td>\n",
              "      <td>1.003709</td>\n",
              "      <td>-0.912490</td>\n",
              "      <td>0</td>\n",
              "    </tr>\n",
              "    <tr>\n",
              "      <th>4</th>\n",
              "      <td>1.159078</td>\n",
              "      <td>-1.604574</td>\n",
              "      <td>-0.602022</td>\n",
              "      <td>1.011683</td>\n",
              "      <td>2</td>\n",
              "    </tr>\n",
              "  </tbody>\n",
              "</table>\n",
              "</div>"
            ],
            "text/plain": [
              "        Age    Income  SpendingScore   Savings  cluster\n",
              "0 -0.042245  0.062671       1.102499 -1.071404        0\n",
              "1 -0.000820  0.174637       1.101549 -1.302181        0\n",
              "2  0.123455 -0.021179       0.760973 -0.526034        0\n",
              "3 -0.000820 -0.031681       1.003709 -0.912490        0\n",
              "4  1.159078 -1.604574      -0.602022  1.011683        2"
            ]
          },
          "metadata": {},
          "execution_count": 18
        }
      ],
      "source": [
        "df1.head()"
      ]
    },
    {
      "cell_type": "code",
      "execution_count": null,
      "metadata": {
        "colab": {
          "base_uri": "https://localhost:8080/"
        },
        "id": "WclWgXeVS5pM",
        "outputId": "279f6bbe-be26-49d2-fc8e-e9e52104741f"
      },
      "outputs": [
        {
          "output_type": "execute_result",
          "data": {
            "text/plain": [
              "0    157\n",
              "1    151\n",
              "2    147\n",
              "3     50\n",
              "Name: cluster, dtype: int64"
            ]
          },
          "metadata": {},
          "execution_count": 19
        }
      ],
      "source": [
        "df1.cluster.value_counts()"
      ]
    },
    {
      "cell_type": "code",
      "execution_count": null,
      "metadata": {
        "colab": {
          "base_uri": "https://localhost:8080/"
        },
        "id": "_003bk9_TuKw",
        "outputId": "6e82f606-0b17-440a-f94f-14c2f763d6f0"
      },
      "outputs": [
        {
          "output_type": "execute_result",
          "data": {
            "text/plain": [
              "189.32614086171128"
            ]
          },
          "metadata": {},
          "execution_count": 20
        }
      ],
      "source": [
        "# WCSS == Inertia\n",
        "km.inertia_"
      ]
    },
    {
      "cell_type": "code",
      "execution_count": null,
      "metadata": {
        "colab": {
          "base_uri": "https://localhost:8080/"
        },
        "id": "iQzhvzHPT2-1",
        "outputId": "41b9ca72-063f-4802-dcd9-744c3f962f49"
      },
      "outputs": [
        {
          "output_type": "execute_result",
          "data": {
            "text/plain": [
              "0.7930613209998458"
            ]
          },
          "metadata": {},
          "execution_count": 21
        }
      ],
      "source": [
        "silhouette_score(df1, km.labels_)"
      ]
    },
    {
      "cell_type": "code",
      "execution_count": null,
      "metadata": {
        "colab": {
          "base_uri": "https://localhost:8080/",
          "height": 300
        },
        "id": "BbfwbVfdW3VF",
        "outputId": "9a4cfb02-03c3-4eda-b863-2b7e395fe6f3"
      },
      "outputs": [
        {
          "output_type": "execute_result",
          "data": {
            "text/plain": [
              "Text(0.5, 1.0, 'K-Means (Dot Size = Silhouette Distance)')"
            ]
          },
          "metadata": {},
          "execution_count": 22
        },
        {
          "output_type": "display_data",
          "data": {
            "image/png": "[encoded data removed]",
            "text/plain": [
              "<Figure size 432x288 with 1 Axes>"
            ]
          },
          "metadata": {
            "needs_background": "light"
          }
        }
      ],
      "source": [
        "sample_silhouette_values = silhouette_samples(df1, km.labels_)\n",
        "sizes = 100*sample_silhouette_values\n",
        "\n",
        "plt.figure();\n",
        "\n",
        "plt.scatter(df1.iloc[:, 0], df1.iloc[:, 1], s=sizes, c=km.labels_)\n",
        "plt.scatter(km.cluster_centers_[:, 0], km.cluster_centers_[:, 1], marker='x', c=\"black\")\n",
        "\n",
        "plt.title(\"K-Means (Dot Size = Silhouette Distance)\")"
      ]
    },
    {
      "cell_type": "markdown",
      "metadata": {
        "id": "A92Z33WJTB2b"
      },
      "source": [
        "# Implmmenting K-Means using Elbow Method"
      ]
    },
    {
      "cell_type": "code",
      "execution_count": null,
      "metadata": {
        "colab": {
          "base_uri": "https://localhost:8080/",
          "height": 573
        },
        "id": "GWlPARlbTPUn",
        "outputId": "7ae14037-1619-4b04-934d-662c27a77605"
      },
      "outputs": [
        {
          "output_type": "display_data",
          "data": {
            "image/png": "[encoded data removed]",
            "text/plain": [
              "<Figure size 432x288 with 1 Axes>"
            ]
          },
          "metadata": {
            "needs_background": "light"
          }
        },
        {
          "output_type": "display_data",
          "data": {
            "image/png": "[encoded data removed]",
            "text/plain": [
              "<Figure size 432x288 with 1 Axes>"
            ]
          },
          "metadata": {
            "needs_background": "light"
          }
        }
      ],
      "source": [
        "inertias = {}\n",
        "silhouettes = {}\n",
        "for k in range(2, 11):\n",
        "    kmeans = KMeans(n_clusters=k, random_state=42).fit(df1)\n",
        "    inertias[k] = kmeans.inertia_ # Inertia: Sum of distances of samples to their closest cluster center\n",
        "    silhouettes[k] = silhouette_score(df1, kmeans.labels_, metric='euclidean')\n",
        "    \n",
        "\n",
        "plt.figure();\n",
        "plt.plot(list(inertias.keys()), list(inertias.values()));\n",
        "plt.title('K-Means, Elbow Method')\n",
        "plt.xlabel(\"Number of clusters, K\");\n",
        "plt.ylabel(\"Inertia\");\n",
        "\n",
        "\n",
        "plt.figure();\n",
        "plt.plot(list(silhouettes.keys()), list(silhouettes.values()));\n",
        "plt.title('K-Means, Elbow Method')\n",
        "plt.xlabel(\"Number of clusters, K\");\n",
        "plt.ylabel(\"Silhouette\");"
      ]
    },
    {
      "cell_type": "markdown",
      "metadata": {
        "id": "LU58ldsAVpdp"
      },
      "source": [
        "# Implementing K-Means with K=5"
      ]
    },
    {
      "cell_type": "code",
      "execution_count": null,
      "metadata": {
        "id": "GcAAMV3uVt-7"
      },
      "outputs": [],
      "source": [
        "km1 = KMeans(n_clusters = 5)\n",
        "df1['cluster_K_5'] = km1.fit_predict(df1)\n"
      ]
    },
    {
      "cell_type": "code",
      "execution_count": null,
      "metadata": {
        "colab": {
          "base_uri": "https://localhost:8080/",
          "height": 206
        },
        "id": "lWMSN7wEV_Tg",
        "outputId": "297a0e49-e02d-4418-feaf-9a41d5eb5b90"
      },
      "outputs": [
        {
          "output_type": "execute_result",
          "data": {
            "text/html": [
              "<div>\n",
              "<style scoped>\n",
              "    .dataframe tbody tr th:only-of-type {\n",
              "        vertical-align: middle;\n",
              "    }\n",
              "\n",
              "    .dataframe tbody tr th {\n",
              "        vertical-align: top;\n",
              "    }\n",
              "\n",
              "    .dataframe thead th {\n",
              "        text-align: right;\n",
              "    }\n",
              "</style>\n",
              "<table border=\"1\" class=\"dataframe\">\n",
              "  <thead>\n",
              "    <tr style=\"text-align: right;\">\n",
              "      <th></th>\n",
              "      <th>Age</th>\n",
              "      <th>Income</th>\n",
              "      <th>SpendingScore</th>\n",
              "      <th>Savings</th>\n",
              "      <th>cluster</th>\n",
              "      <th>cluster_K_5</th>\n",
              "    </tr>\n",
              "  </thead>\n",
              "  <tbody>\n",
              "    <tr>\n",
              "      <th>0</th>\n",
              "      <td>-0.042245</td>\n",
              "      <td>0.062671</td>\n",
              "      <td>1.102499</td>\n",
              "      <td>-1.071404</td>\n",
              "      <td>0</td>\n",
              "      <td>0</td>\n",
              "    </tr>\n",
              "    <tr>\n",
              "      <th>1</th>\n",
              "      <td>-0.000820</td>\n",
              "      <td>0.174637</td>\n",
              "      <td>1.101549</td>\n",
              "      <td>-1.302181</td>\n",
              "      <td>0</td>\n",
              "      <td>0</td>\n",
              "    </tr>\n",
              "    <tr>\n",
              "      <th>2</th>\n",
              "      <td>0.123455</td>\n",
              "      <td>-0.021179</td>\n",
              "      <td>0.760973</td>\n",
              "      <td>-0.526034</td>\n",
              "      <td>0</td>\n",
              "      <td>0</td>\n",
              "    </tr>\n",
              "    <tr>\n",
              "      <th>3</th>\n",
              "      <td>-0.000820</td>\n",
              "      <td>-0.031681</td>\n",
              "      <td>1.003709</td>\n",
              "      <td>-0.912490</td>\n",
              "      <td>0</td>\n",
              "      <td>0</td>\n",
              "    </tr>\n",
              "    <tr>\n",
              "      <th>4</th>\n",
              "      <td>1.159078</td>\n",
              "      <td>-1.604574</td>\n",
              "      <td>-0.602022</td>\n",
              "      <td>1.011683</td>\n",
              "      <td>2</td>\n",
              "      <td>1</td>\n",
              "    </tr>\n",
              "  </tbody>\n",
              "</table>\n",
              "</div>"
            ],
            "text/plain": [
              "        Age    Income  SpendingScore   Savings  cluster  cluster_K_5\n",
              "0 -0.042245  0.062671       1.102499 -1.071404        0            0\n",
              "1 -0.000820  0.174637       1.101549 -1.302181        0            0\n",
              "2  0.123455 -0.021179       0.760973 -0.526034        0            0\n",
              "3 -0.000820 -0.031681       1.003709 -0.912490        0            0\n",
              "4  1.159078 -1.604574      -0.602022  1.011683        2            1"
            ]
          },
          "metadata": {},
          "execution_count": 25
        }
      ],
      "source": [
        "df1.head()"
      ]
    },
    {
      "cell_type": "code",
      "execution_count": null,
      "metadata": {
        "colab": {
          "base_uri": "https://localhost:8080/"
        },
        "id": "fESvQ1hrWDS-",
        "outputId": "52d04b73-ca40-4dc4-b894-121ce1b8e7ed"
      },
      "outputs": [
        {
          "output_type": "execute_result",
          "data": {
            "text/plain": [
              "66.37940857285106"
            ]
          },
          "metadata": {},
          "execution_count": 26
        }
      ],
      "source": [
        "km1.inertia_"
      ]
    },
    {
      "cell_type": "code",
      "execution_count": null,
      "metadata": {
        "colab": {
          "base_uri": "https://localhost:8080/"
        },
        "id": "4Z9KI2AuWRWb",
        "outputId": "888017d4-0465-4be9-de37-a061ea384eac"
      },
      "outputs": [
        {
          "output_type": "execute_result",
          "data": {
            "text/plain": [
              "0.8606338051948379"
            ]
          },
          "metadata": {},
          "execution_count": 27
        }
      ],
      "source": [
        "silhouette_score(df1, km1.labels_)"
      ]
    },
    {
      "cell_type": "code",
      "execution_count": null,
      "metadata": {
        "colab": {
          "base_uri": "https://localhost:8080/",
          "height": 300
        },
        "id": "nJx0mvgXWdvN",
        "outputId": "c274fa71-85a4-444f-a2be-640bb5d29bd4"
      },
      "outputs": [
        {
          "output_type": "execute_result",
          "data": {
            "text/plain": [
              "Text(0.5, 1.0, 'K-Means (Dot Size = Silhouette Distance)')"
            ]
          },
          "metadata": {},
          "execution_count": 28
        },
        {
          "output_type": "display_data",
          "data": {
            "image/png": "[encoded data removed]",
            "text/plain": [
              "<Figure size 432x288 with 1 Axes>"
            ]
          },
          "metadata": {
            "needs_background": "light"
          }
        }
      ],
      "source": [
        "sample_silhouette_values_k_5 = silhouette_samples(df1, km1.labels_)\n",
        "sizes = 100*sample_silhouette_values_k_5\n",
        "\n",
        "plt.figure();\n",
        "\n",
        "plt.scatter(df1.iloc[:, 0], df1.iloc[:, 1], s=sizes, c=km1.labels_)\n",
        "plt.scatter(km1.cluster_centers_[:, 0], km1.cluster_centers_[:, 1], marker='x', c=\"black\")\n",
        "\n",
        "plt.title(\"K-Means (Dot Size = Silhouette Distance)\")"
      ]
    },
    {
      "cell_type": "markdown",
      "metadata": {
        "id": "P0c2NY9BhXfp"
      },
      "source": [
        ""
      ]
    },
    {
      "cell_type": "markdown",
      "metadata": {
        "id": "ihVtYBWg1NM6"
      },
      "source": [
        "## 1.2: Clustering Algorithm #2 - AgglomerativeClustering (aka Hierarchical)\n",
        "\n",
        "---\n",
        "\n"
      ]
    },
    {
      "cell_type": "code",
      "execution_count": null,
      "metadata": {
        "colab": {
          "base_uri": "https://localhost:8080/"
        },
        "id": "bGafNtzdpGqY",
        "outputId": "29b3b762-25c9-40b7-f97a-99802a5af158"
      },
      "outputs": [
        {
          "output_type": "stream",
          "name": "stdout",
          "text": [
            "<class 'pandas.core.frame.DataFrame'>\n",
            "RangeIndex: 505 entries, 0 to 504\n",
            "Data columns (total 4 columns):\n",
            " #   Column         Non-Null Count  Dtype  \n",
            "---  ------         --------------  -----  \n",
            " 0   Age            505 non-null    int64  \n",
            " 1   Income         505 non-null    int64  \n",
            " 2   SpendingScore  505 non-null    float64\n",
            " 3   Savings        505 non-null    float64\n",
            "dtypes: float64(2), int64(2)\n",
            "memory usage: 15.9 KB\n",
            "   Age  Income  SpendingScore       Savings\n",
            "0   58   77769       0.791329   6559.829923\n",
            "1   59   81799       0.791082   5417.661426\n",
            "2   62   74751       0.702657   9258.992965\n",
            "3   59   74373       0.765680   7346.334504\n",
            "4   87   17760       0.348778  16869.507130\n"
          ]
        }
      ],
      "source": [
        "# DO NOT MODIFY THIS CELL\n",
        "df_agg = pd.read_csv(\"https://drive.google.com/uc?export=download&id=1thHDCwQK3GijytoSSZNekAsItN_FGHtm\")\n",
        "df_agg.info()\n",
        "print(df_agg.head(5))\n"
      ]
    },
    {
      "cell_type": "code",
      "execution_count": null,
      "metadata": {
        "id": "PLpcsSGtBqnl"
      },
      "outputs": [],
      "source": [
        "col_names = df_agg.columns"
      ]
    },
    {
      "cell_type": "markdown",
      "metadata": {
        "id": "j02Nr43_zmGi"
      },
      "source": [
        "# Scaling"
      ]
    },
    {
      "cell_type": "code",
      "execution_count": null,
      "metadata": {
        "colab": {
          "base_uri": "https://localhost:8080/"
        },
        "id": "p9ZHx4p80jSy",
        "outputId": "449ede23-6828-452d-ab14-fdf49da07379"
      },
      "outputs": [
        {
          "output_type": "execute_result",
          "data": {
            "text/plain": [
              "array([[-4.22871323e-02,  6.27330450e-02,  1.10359261e+00,\n",
              "        -1.07246676e+00],\n",
              "       [-8.21109365e-04,  1.74810526e-01,  1.10264136e+00,\n",
              "        -1.30347264e+00],\n",
              "       [ 1.23576959e-01, -2.11999168e-02,  7.61727378e-01,\n",
              "        -5.26555609e-01],\n",
              "       [-8.21109365e-04, -3.17123951e-02,  1.00470466e+00,\n",
              "        -9.13394630e-01],\n",
              "       [ 1.16022753e+00, -1.60616460e+00, -6.02618775e-01,\n",
              "         1.01268619e+00],\n",
              "       [-1.24480180e+00,  1.55920380e+00,  1.31835884e+00,\n",
              "        -1.68414067e+00],\n",
              "       [-2.08151224e-01,  2.74411535e-02,  1.07995544e+00,\n",
              "        -1.00793738e+00],\n",
              "       [ 1.16022753e+00, -9.15567087e-01, -5.77511904e-01,\n",
              "         1.25878240e+00],\n",
              "       [ 9.94363441e-01, -1.14383804e+00, -6.95375294e-01,\n",
              "         5.90762597e-01],\n",
              "       [ 1.03582946e+00, -1.32992004e+00, -5.32121174e-01,\n",
              "         1.21697119e+00]])"
            ]
          },
          "metadata": {},
          "execution_count": 31
        }
      ],
      "source": [
        "X = df_agg.copy()\n",
        "\n",
        "scaler = StandardScaler()\n",
        "X = scaler.fit_transform(X)\n",
        "X[0:10,]"
      ]
    },
    {
      "cell_type": "code",
      "execution_count": null,
      "metadata": {
        "colab": {
          "base_uri": "https://localhost:8080/"
        },
        "id": "RZGvmE8vmODM",
        "outputId": "fcbca534-d17c-4339-d30e-a60a8a49cdbb"
      },
      "outputs": [
        {
          "output_type": "execute_result",
          "data": {
            "text/plain": [
              "AgglomerativeClustering(n_clusters=5)"
            ]
          },
          "metadata": {},
          "execution_count": 32
        }
      ],
      "source": [
        "agg = AgglomerativeClustering(n_clusters=5, affinity='euclidean', linkage='ward')\n",
        "agg.fit(X)"
      ]
    },
    {
      "cell_type": "code",
      "execution_count": null,
      "metadata": {
        "colab": {
          "base_uri": "https://localhost:8080/"
        },
        "id": "meZCKYoPmYfh",
        "outputId": "d0d9ab26-2da4-486e-a3a0-d3567066ff17"
      },
      "outputs": [
        {
          "output_type": "execute_result",
          "data": {
            "text/plain": [
              "array([1, 1, 1, 1, 0, 3, 1, 0, 0, 0, 4, 2, 2, 2, 1, 4, 1, 0, 0, 4, 2, 4,\n",
              "       1, 0, 4, 3, 3, 1, 0, 1, 1, 1, 0, 1, 2, 1, 0, 1, 2, 2, 1, 0, 3, 1,\n",
              "       1, 3, 4, 3, 2, 1, 0, 2, 3, 0, 1, 0, 2, 0, 0, 0, 0, 0, 0, 1, 1, 1,\n",
              "       0, 3, 3, 1, 1, 2, 0, 0, 2, 1, 2, 1, 1, 3, 1, 4, 1, 0, 0, 2, 2, 1,\n",
              "       1, 1, 1, 1, 3, 0, 1, 3, 2, 1, 1, 2, 2, 3, 2, 3, 2, 0, 0, 2, 2, 1,\n",
              "       0, 2, 1, 2, 2, 2, 1, 2, 3, 0, 2, 0, 0, 0, 2, 4, 1, 0, 1, 1, 2, 1,\n",
              "       2, 1, 3, 0, 4, 3, 1, 2, 0, 1, 1, 3, 1, 3, 1, 4, 1, 0, 1, 2, 0, 1,\n",
              "       0, 4, 2, 1, 0, 1, 2, 0, 1, 2, 0, 2, 0, 1, 2, 1, 0, 1, 2, 1, 0, 1,\n",
              "       1, 0, 0, 0, 1, 1, 2, 3, 3, 0, 2, 1, 1, 1, 2, 0, 1, 1, 1, 0, 3, 2,\n",
              "       0, 0, 0, 2, 1, 2, 1, 2, 1, 0, 3, 1, 0, 0, 0, 0, 1, 0, 2, 3, 2, 0,\n",
              "       1, 1, 2, 0, 2, 3, 2, 1, 1, 0, 1, 1, 0, 1, 1, 1, 2, 1, 2, 2, 3, 1,\n",
              "       1, 1, 4, 1, 2, 0, 3, 3, 3, 0, 1, 2, 0, 0, 2, 2, 1, 1, 4, 1, 1, 0,\n",
              "       1, 0, 2, 3, 1, 2, 0, 1, 0, 0, 2, 1, 0, 0, 1, 1, 0, 2, 2, 4, 2, 0,\n",
              "       0, 2, 4, 0, 0, 3, 1, 2, 2, 1, 2, 0, 0, 2, 1, 2, 0, 1, 2, 3, 1, 0,\n",
              "       2, 2, 0, 4, 4, 1, 0, 2, 1, 1, 0, 2, 0, 2, 0, 2, 0, 0, 2, 0, 2, 1,\n",
              "       2, 1, 1, 2, 2, 0, 0, 3, 3, 2, 0, 3, 0, 4, 1, 1, 1, 0, 0, 2, 2, 4,\n",
              "       2, 4, 1, 2, 3, 0, 1, 0, 3, 1, 0, 0, 1, 0, 2, 1, 4, 2, 2, 1, 0, 0,\n",
              "       0, 0, 0, 2, 2, 0, 1, 2, 1, 4, 0, 0, 1, 0, 0, 1, 0, 0, 2, 0, 1, 2,\n",
              "       3, 2, 1, 0, 2, 1, 1, 1, 0, 2, 3, 2, 1, 2, 1, 1, 3, 2, 4, 3, 2, 2,\n",
              "       0, 1, 0, 2, 0, 2, 1, 1, 0, 4, 2, 0, 2, 1, 1, 2, 1, 0, 1, 2, 1, 0,\n",
              "       1, 0, 3, 2, 2, 3, 2, 2, 0, 0, 1, 3, 1, 2, 2, 4, 3, 2, 3, 0, 2, 2,\n",
              "       1, 2, 0, 0, 3, 1, 2, 1, 1, 2, 1, 1, 1, 0, 2, 2, 1, 1, 1, 0, 2, 0,\n",
              "       0, 0, 0, 3, 0, 0, 0, 1, 1, 0, 0, 1, 3, 0, 2, 3, 2, 0, 0, 0, 0])"
            ]
          },
          "metadata": {},
          "execution_count": 33
        }
      ],
      "source": [
        "agg.labels_"
      ]
    },
    {
      "cell_type": "code",
      "execution_count": null,
      "metadata": {
        "colab": {
          "base_uri": "https://localhost:8080/"
        },
        "id": "xQyq1d2ImgoX",
        "outputId": "bd3bcfea-ca3f-4ece-850b-7a5df09e85ac"
      },
      "outputs": [
        {
          "output_type": "execute_result",
          "data": {
            "text/plain": [
              "0.8048976287755765"
            ]
          },
          "metadata": {},
          "execution_count": 34
        }
      ],
      "source": [
        "silhouette_score(X, agg.labels_)"
      ]
    },
    {
      "cell_type": "code",
      "execution_count": null,
      "metadata": {
        "colab": {
          "base_uri": "https://localhost:8080/",
          "height": 300
        },
        "id": "OrxeMPPwm7Zg",
        "outputId": "d4f90126-2cc4-4c6b-bde7-c921c20b149b"
      },
      "outputs": [
        {
          "output_type": "execute_result",
          "data": {
            "text/plain": [
              "Text(0.5, 1.0, 'Agglomerative')"
            ]
          },
          "metadata": {},
          "execution_count": 35
        },
        {
          "output_type": "display_data",
          "data": {
            "image/png": "[encoded data removed]",
            "text/plain": [
              "<Figure size 432x288 with 1 Axes>"
            ]
          },
          "metadata": {
            "needs_background": "light"
          }
        }
      ],
      "source": [
        "plt.figure();\n",
        "\n",
        "plt.scatter(X[:, 0], X[:, 1], c=agg.labels_);\n",
        "plt.title(\"Agglomerative\")"
      ]
    },
    {
      "cell_type": "code",
      "execution_count": null,
      "metadata": {
        "colab": {
          "base_uri": "https://localhost:8080/",
          "height": 550
        },
        "id": "Sh-djJZOnCXj",
        "outputId": "d7a94f51-c6d8-4350-9781-54df388251e2"
      },
      "outputs": [
        {
          "output_type": "execute_result",
          "data": {
            "text/plain": [
              "<matplotlib.lines.Line2D at 0x7f2dc0a4fa50>"
            ]
          },
          "metadata": {},
          "execution_count": 36
        },
        {
          "output_type": "display_data",
          "data": {
            "image/png": "[encoded data removed]",
            "text/plain": [
              "<Figure size 1152x720 with 1 Axes>"
            ]
          },
          "metadata": {
            "needs_background": "light"
          }
        }
      ],
      "source": [
        "# max_d = cut-off/ Threshold value\n",
        "max_d = 10\n",
        "import scipy.cluster\n",
        "\n",
        "aggl = scipy.cluster.hierarchy.linkage(X, method='ward', metric='euclidean')\n",
        "\n",
        "# Plot the dendogram\n",
        "plt.figure(figsize=(16, 10));\n",
        "plt.grid(False)\n",
        "plt.title(\"Customer Dendogram\");  \n",
        "dend = scipy.cluster.hierarchy.dendrogram(aggl);\n",
        "\n",
        "plt.axhline(y=max_d)"
      ]
    },
    {
      "cell_type": "code",
      "execution_count": null,
      "metadata": {
        "id": "lduGPO-_6niZ"
      },
      "outputs": [],
      "source": [
        "# Let's find K=5 clusters\n",
        "K=5\n",
        "labels = scipy.cluster.hierarchy.fcluster(aggl, K, criterion=\"maxclust\")"
      ]
    },
    {
      "cell_type": "code",
      "execution_count": null,
      "metadata": {
        "colab": {
          "base_uri": "https://localhost:8080/",
          "height": 332
        },
        "id": "UY4x5XzR6yXn",
        "outputId": "ed9d4edc-75d2-4884-9809-cfed82f54b2e"
      },
      "outputs": [
        {
          "output_type": "execute_result",
          "data": {
            "text/html": [
              "<div>\n",
              "<style scoped>\n",
              "    .dataframe tbody tr th:only-of-type {\n",
              "        vertical-align: middle;\n",
              "    }\n",
              "\n",
              "    .dataframe tbody tr th {\n",
              "        vertical-align: top;\n",
              "    }\n",
              "\n",
              "    .dataframe thead th {\n",
              "        text-align: right;\n",
              "    }\n",
              "</style>\n",
              "<table border=\"1\" class=\"dataframe\">\n",
              "  <thead>\n",
              "    <tr style=\"text-align: right;\">\n",
              "      <th></th>\n",
              "      <th>Age</th>\n",
              "      <th>Income</th>\n",
              "      <th>SpendingScore</th>\n",
              "      <th>Savings</th>\n",
              "      <th>Cluster ID</th>\n",
              "    </tr>\n",
              "  </thead>\n",
              "  <tbody>\n",
              "    <tr>\n",
              "      <th>0</th>\n",
              "      <td>58</td>\n",
              "      <td>77769</td>\n",
              "      <td>0.791329</td>\n",
              "      <td>6559.829923</td>\n",
              "      <td>2</td>\n",
              "    </tr>\n",
              "    <tr>\n",
              "      <th>1</th>\n",
              "      <td>59</td>\n",
              "      <td>81799</td>\n",
              "      <td>0.791082</td>\n",
              "      <td>5417.661426</td>\n",
              "      <td>2</td>\n",
              "    </tr>\n",
              "    <tr>\n",
              "      <th>2</th>\n",
              "      <td>62</td>\n",
              "      <td>74751</td>\n",
              "      <td>0.702657</td>\n",
              "      <td>9258.992965</td>\n",
              "      <td>2</td>\n",
              "    </tr>\n",
              "    <tr>\n",
              "      <th>3</th>\n",
              "      <td>59</td>\n",
              "      <td>74373</td>\n",
              "      <td>0.765680</td>\n",
              "      <td>7346.334504</td>\n",
              "      <td>2</td>\n",
              "    </tr>\n",
              "    <tr>\n",
              "      <th>4</th>\n",
              "      <td>87</td>\n",
              "      <td>17760</td>\n",
              "      <td>0.348778</td>\n",
              "      <td>16869.507130</td>\n",
              "      <td>3</td>\n",
              "    </tr>\n",
              "    <tr>\n",
              "      <th>5</th>\n",
              "      <td>29</td>\n",
              "      <td>131578</td>\n",
              "      <td>0.847034</td>\n",
              "      <td>3535.514352</td>\n",
              "      <td>1</td>\n",
              "    </tr>\n",
              "    <tr>\n",
              "      <th>6</th>\n",
              "      <td>54</td>\n",
              "      <td>76500</td>\n",
              "      <td>0.785198</td>\n",
              "      <td>6878.884249</td>\n",
              "      <td>2</td>\n",
              "    </tr>\n",
              "    <tr>\n",
              "      <th>7</th>\n",
              "      <td>87</td>\n",
              "      <td>42592</td>\n",
              "      <td>0.355290</td>\n",
              "      <td>18086.287158</td>\n",
              "      <td>3</td>\n",
              "    </tr>\n",
              "    <tr>\n",
              "      <th>8</th>\n",
              "      <td>83</td>\n",
              "      <td>34384</td>\n",
              "      <td>0.324719</td>\n",
              "      <td>14783.379086</td>\n",
              "      <td>3</td>\n",
              "    </tr>\n",
              "  </tbody>\n",
              "</table>\n",
              "</div>"
            ],
            "text/plain": [
              "   Age  Income  SpendingScore       Savings  Cluster ID\n",
              "0   58   77769       0.791329   6559.829923           2\n",
              "1   59   81799       0.791082   5417.661426           2\n",
              "2   62   74751       0.702657   9258.992965           2\n",
              "3   59   74373       0.765680   7346.334504           2\n",
              "4   87   17760       0.348778  16869.507130           3\n",
              "5   29  131578       0.847034   3535.514352           1\n",
              "6   54   76500       0.785198   6878.884249           2\n",
              "7   87   42592       0.355290  18086.287158           3\n",
              "8   83   34384       0.324719  14783.379086           3"
            ]
          },
          "metadata": {},
          "execution_count": 38
        }
      ],
      "source": [
        "df_agg['Cluster ID'] = labels\n",
        "df_agg.head(9)"
      ]
    },
    {
      "cell_type": "code",
      "execution_count": null,
      "metadata": {
        "colab": {
          "base_uri": "https://localhost:8080/"
        },
        "id": "ZZFOKLpWZ3_c",
        "outputId": "96eac530-dd77-49be-f16f-9d6460945ecd"
      },
      "outputs": [
        {
          "output_type": "stream",
          "name": "stdout",
          "text": [
            "\n",
            "Cluster 1 (n=50):\n",
            "\n",
            "Cluster 2 (n=157):\n",
            "\n",
            "Cluster 3 (n=147):\n",
            "\n",
            "Cluster 4 (n=25):\n",
            "\n",
            "Cluster 5 (n=126):\n"
          ]
        },
        {
          "output_type": "execute_result",
          "data": {
            "text/plain": [
              "array([[-1.44,  1.46,  1.51, -1.57],\n",
              "       [ 0.04, -0.09,  1.03, -1.01],\n",
              "       [ 1.19, -1.33, -0.68,  0.97],\n",
              "       [ 1.12,  1.24, -1.68,  0.6 ],\n",
              "       [-1.09,  0.83, -0.75,  0.63]])"
            ]
          },
          "metadata": {},
          "execution_count": 39
        }
      ],
      "source": [
        "np.set_printoptions(precision=2)\n",
        "np.set_printoptions(suppress=True)\n",
        "\n",
        "means = np.zeros((K, X.shape[1]))\n",
        "\n",
        "for i, label in enumerate(set(labels)):\n",
        "    means[i,:] = X[labels==label].mean(axis=0)\n",
        "    print('\\nCluster {} (n={}):'.format(label, sum(labels==label)))\n",
        "    \n",
        "means"
      ]
    },
    {
      "cell_type": "markdown",
      "metadata": {
        "id": "6ySJIgNr1Sfy"
      },
      "source": [
        "## 1.3 Model Comparison"
      ]
    },
    {
      "cell_type": "markdown",
      "metadata": {
        "id": "bbOluA5KcamC"
      },
      "source": [
        "K-Means Clustering | Hierarchical Clustering\n",
        "-------------------|------------------\n",
        "Easy to implement      | A bit hard to implement\n",
        "Had to make a guess about the initial value of K | No intial value required\n",
        "Fast     | Little slow as compared to K-Means, but might be slower on a larger dataset\n",
        "silhouette_score = 0.86 | silhouette_score = 0.80\n",
        "There seem to be some overalapping between the clusters | The clusters created are not overalapping and the user has the ability to create more clusters by switching the threshold value \n",
        "It is easy to change the  decision by changing number of clusters which impacts the accuracy of the model | The decision could not be reversed as it would not undo the combination of clusters created originally\n",
        "\n",
        "\n",
        "\n",
        "From my experience, I would say that K-Means is a better algorithm due to the following factors :  \n",
        "\n",
        "\n",
        "1.   Faster\n",
        "2.   Easy to implement\n",
        "3.   Bette Silhouette Score\n",
        "4.   Decent visualization of the clusters, not as good a the Hierarchical Clustering model though, but the implementation for Hierarchical Clustering seems to be harder that K-Means\n",
        "5.   Hyperparameter Tuning for K-Means seems to be really easy using the elbow method\n",
        "\n"
      ]
    },
    {
      "cell_type": "markdown",
      "metadata": {
        "id": "MP2EAnCJ1Xta"
      },
      "source": [
        "## 1.4 Personas"
      ]
    },
    {
      "cell_type": "markdown",
      "metadata": {
        "id": "FsAku-F0C0Lx"
      },
      "source": [
        "# Relative Importance Graph"
      ]
    },
    {
      "cell_type": "code",
      "execution_count": null,
      "metadata": {
        "colab": {
          "base_uri": "https://localhost:8080/",
          "height": 281
        },
        "id": "b9WD1YOTqptO",
        "outputId": "7d1cfe27-642a-45d1-96e1-ea0d3d7bf6ae"
      },
      "outputs": [
        {
          "output_type": "display_data",
          "data": {
            "image/png": "[encoded data removed]",
            "text/plain": [
              "<Figure size 576x288 with 2 Axes>"
            ]
          },
          "metadata": {
            "needs_background": "light"
          }
        }
      ],
      "source": [
        "import seaborn as sns\n",
        "\n",
        "all_means = X.mean(axis=0)\n",
        "\n",
        "relative_imp = means - all_means\n",
        "\n",
        "plt.figure(figsize=(8, 4));\n",
        "plt.title('Relative importance of features');\n",
        "sns.heatmap(data=relative_imp, \n",
        "            annot=scaler.inverse_transform(relative_imp), \n",
        "            fmt='.2f', \n",
        "            cmap='RdYlGn', \n",
        "            robust=True, \n",
        "            square=False,\n",
        "            xticklabels=col_names, \n",
        "            yticklabels=['Cluster {}'.format(x) for x in range(K)]);\n",
        "#plt.savefig('out/mall_heatmap.png')"
      ]
    },
    {
      "cell_type": "markdown",
      "metadata": {
        "id": "RoU0d_OqDOdi"
      },
      "source": [
        "# Examplr"
      ]
    },
    {
      "cell_type": "code",
      "execution_count": null,
      "metadata": {
        "colab": {
          "base_uri": "https://localhost:8080/",
          "height": 518
        },
        "id": "74o3ZGrXquRz",
        "outputId": "bd1765e1-a000-4e96-badc-a6b150eb0e5a"
      },
      "outputs": [
        {
          "output_type": "stream",
          "name": "stdout",
          "text": [
            "\n",
            "Cluster 1:\n"
          ]
        },
        {
          "output_type": "display_data",
          "data": {
            "text/html": [
              "<div>\n",
              "<style scoped>\n",
              "    .dataframe tbody tr th:only-of-type {\n",
              "        vertical-align: middle;\n",
              "    }\n",
              "\n",
              "    .dataframe tbody tr th {\n",
              "        vertical-align: top;\n",
              "    }\n",
              "\n",
              "    .dataframe thead th {\n",
              "        text-align: right;\n",
              "    }\n",
              "</style>\n",
              "<table border=\"1\" class=\"dataframe\">\n",
              "  <thead>\n",
              "    <tr style=\"text-align: right;\">\n",
              "      <th></th>\n",
              "      <th>Age</th>\n",
              "      <th>Income</th>\n",
              "      <th>SpendingScore</th>\n",
              "      <th>Savings</th>\n",
              "      <th>Cluster ID</th>\n",
              "    </tr>\n",
              "  </thead>\n",
              "  <tbody>\n",
              "    <tr>\n",
              "      <th>95</th>\n",
              "      <td>25</td>\n",
              "      <td>130934</td>\n",
              "      <td>0.913766</td>\n",
              "      <td>3942.389134</td>\n",
              "      <td>1</td>\n",
              "    </tr>\n",
              "  </tbody>\n",
              "</table>\n",
              "</div>"
            ],
            "text/plain": [
              "    Age  Income  SpendingScore      Savings  Cluster ID\n",
              "95   25  130934       0.913766  3942.389134           1"
            ]
          },
          "metadata": {}
        },
        {
          "output_type": "stream",
          "name": "stdout",
          "text": [
            "\n",
            "Cluster 2:\n"
          ]
        },
        {
          "output_type": "display_data",
          "data": {
            "text/html": [
              "<div>\n",
              "<style scoped>\n",
              "    .dataframe tbody tr th:only-of-type {\n",
              "        vertical-align: middle;\n",
              "    }\n",
              "\n",
              "    .dataframe tbody tr th {\n",
              "        vertical-align: top;\n",
              "    }\n",
              "\n",
              "    .dataframe thead th {\n",
              "        text-align: right;\n",
              "    }\n",
              "</style>\n",
              "<table border=\"1\" class=\"dataframe\">\n",
              "  <thead>\n",
              "    <tr style=\"text-align: right;\">\n",
              "      <th></th>\n",
              "      <th>Age</th>\n",
              "      <th>Income</th>\n",
              "      <th>SpendingScore</th>\n",
              "      <th>Savings</th>\n",
              "      <th>Cluster ID</th>\n",
              "    </tr>\n",
              "  </thead>\n",
              "  <tbody>\n",
              "    <tr>\n",
              "      <th>467</th>\n",
              "      <td>61</td>\n",
              "      <td>72027</td>\n",
              "      <td>0.762325</td>\n",
              "      <td>6926.123598</td>\n",
              "      <td>2</td>\n",
              "    </tr>\n",
              "  </tbody>\n",
              "</table>\n",
              "</div>"
            ],
            "text/plain": [
              "     Age  Income  SpendingScore      Savings  Cluster ID\n",
              "467   61   72027       0.762325  6926.123598           2"
            ]
          },
          "metadata": {}
        },
        {
          "output_type": "stream",
          "name": "stdout",
          "text": [
            "\n",
            "Cluster 3:\n"
          ]
        },
        {
          "output_type": "display_data",
          "data": {
            "text/html": [
              "<div>\n",
              "<style scoped>\n",
              "    .dataframe tbody tr th:only-of-type {\n",
              "        vertical-align: middle;\n",
              "    }\n",
              "\n",
              "    .dataframe tbody tr th {\n",
              "        vertical-align: top;\n",
              "    }\n",
              "\n",
              "    .dataframe thead th {\n",
              "        text-align: right;\n",
              "    }\n",
              "</style>\n",
              "<table border=\"1\" class=\"dataframe\">\n",
              "  <thead>\n",
              "    <tr style=\"text-align: right;\">\n",
              "      <th></th>\n",
              "      <th>Age</th>\n",
              "      <th>Income</th>\n",
              "      <th>SpendingScore</th>\n",
              "      <th>Savings</th>\n",
              "      <th>Cluster ID</th>\n",
              "    </tr>\n",
              "  </thead>\n",
              "  <tbody>\n",
              "    <tr>\n",
              "      <th>335</th>\n",
              "      <td>89</td>\n",
              "      <td>26940</td>\n",
              "      <td>0.326005</td>\n",
              "      <td>16555.159377</td>\n",
              "      <td>3</td>\n",
              "    </tr>\n",
              "  </tbody>\n",
              "</table>\n",
              "</div>"
            ],
            "text/plain": [
              "     Age  Income  SpendingScore       Savings  Cluster ID\n",
              "335   89   26940       0.326005  16555.159377           3"
            ]
          },
          "metadata": {}
        },
        {
          "output_type": "stream",
          "name": "stdout",
          "text": [
            "\n",
            "Cluster 4:\n"
          ]
        },
        {
          "output_type": "display_data",
          "data": {
            "text/html": [
              "<div>\n",
              "<style scoped>\n",
              "    .dataframe tbody tr th:only-of-type {\n",
              "        vertical-align: middle;\n",
              "    }\n",
              "\n",
              "    .dataframe tbody tr th {\n",
              "        vertical-align: top;\n",
              "    }\n",
              "\n",
              "    .dataframe thead th {\n",
              "        text-align: right;\n",
              "    }\n",
              "</style>\n",
              "<table border=\"1\" class=\"dataframe\">\n",
              "  <thead>\n",
              "    <tr style=\"text-align: right;\">\n",
              "      <th></th>\n",
              "      <th>Age</th>\n",
              "      <th>Income</th>\n",
              "      <th>SpendingScore</th>\n",
              "      <th>Savings</th>\n",
              "      <th>Cluster ID</th>\n",
              "    </tr>\n",
              "  </thead>\n",
              "  <tbody>\n",
              "    <tr>\n",
              "      <th>155</th>\n",
              "      <td>86</td>\n",
              "      <td>115689</td>\n",
              "      <td>0.057843</td>\n",
              "      <td>14803.153273</td>\n",
              "      <td>4</td>\n",
              "    </tr>\n",
              "  </tbody>\n",
              "</table>\n",
              "</div>"
            ],
            "text/plain": [
              "     Age  Income  SpendingScore       Savings  Cluster ID\n",
              "155   86  115689       0.057843  14803.153273           4"
            ]
          },
          "metadata": {}
        },
        {
          "output_type": "stream",
          "name": "stdout",
          "text": [
            "\n",
            "Cluster 5:\n"
          ]
        },
        {
          "output_type": "display_data",
          "data": {
            "text/html": [
              "<div>\n",
              "<style scoped>\n",
              "    .dataframe tbody tr th:only-of-type {\n",
              "        vertical-align: middle;\n",
              "    }\n",
              "\n",
              "    .dataframe tbody tr th {\n",
              "        vertical-align: top;\n",
              "    }\n",
              "\n",
              "    .dataframe thead th {\n",
              "        text-align: right;\n",
              "    }\n",
              "</style>\n",
              "<table border=\"1\" class=\"dataframe\">\n",
              "  <thead>\n",
              "    <tr style=\"text-align: right;\">\n",
              "      <th></th>\n",
              "      <th>Age</th>\n",
              "      <th>Income</th>\n",
              "      <th>SpendingScore</th>\n",
              "      <th>Savings</th>\n",
              "      <th>Cluster ID</th>\n",
              "    </tr>\n",
              "  </thead>\n",
              "  <tbody>\n",
              "    <tr>\n",
              "      <th>405</th>\n",
              "      <td>34</td>\n",
              "      <td>103204</td>\n",
              "      <td>0.301087</td>\n",
              "      <td>15149.810421</td>\n",
              "      <td>5</td>\n",
              "    </tr>\n",
              "  </tbody>\n",
              "</table>\n",
              "</div>"
            ],
            "text/plain": [
              "     Age  Income  SpendingScore       Savings  Cluster ID\n",
              "405   34  103204       0.301087  15149.810421           5"
            ]
          },
          "metadata": {}
        }
      ],
      "source": [
        "from scipy.spatial import distance\n",
        "\n",
        "for i, label in enumerate(set(labels)):\n",
        "    X_tmp= X\n",
        "    exemplar_idx = distance.cdist([means[i]], X).argmin()\n",
        "   \n",
        "    print('\\nCluster {}:'.format(label))\n",
        "    #print(\"  Examplar ID: {}\".format(exemplar_idx))\n",
        "    #print(\"  Label: {}\".format(labels[exemplar_idx]))\n",
        "    #print(\"  Features:\")\n",
        "    display(df_agg.iloc[[exemplar_idx]])"
      ]
    },
    {
      "cell_type": "markdown",
      "metadata": {
        "id": "5N9YSf08rMV-"
      },
      "source": [
        "\n",
        "*   Persona 1 (Cluster 0) : **Prodigal Millenials** : Earning and spending good amount of money with low savings\n",
        "*   Persona 2 (Cluster 1) : **YOLO** : With an average age of 60 years still having a considerable high spending score and low savings\n",
        "*   Persona 3 (Cluster 2) : **Close-fisted seniors** :Really old people with an average age of around 90 years having low income and spending habits, but keen on savings\n",
        "*   Persona 4 (Cluster 3) : **Uncle Scrooge** : Really old people with one of the highest incomes, but not keen on spending and filling up the vaults (We should launch a campaign to bring these poeple to the store)\n",
        "*   Persona 5 (Cluster 4) : **Conservative Adults**: Middle aged people with high income and savings, with a comparatively low spending score (It could be a good idea to launch a campaign to attract this segment to the store)"
      ]
    },
    {
      "cell_type": "markdown",
      "metadata": {
        "id": "WhERdkp_zYBY"
      },
      "source": [
        "## Instructions\n",
        "\n",
        "Uncle Steve has recently opened a new credit union in Kingston, named *Uncle Steve's Credit Union*. He plans to disrupt the local market by instaneously providing credit to customers.\n",
        "\n",
        "The first step in Uncle Steve's master plan is to create a model to predict whether an application has *good risk* or *bad risk*. He has outsourced the creation of this model to you.\n",
        "\n",
        "You are to create a classification model to predict whether a loan applicant has good risk or bad risk. You will use data  that Uncle Steve bought from another credit union (somewhere in Europe, he thinks?) that has around 6000 instances and a number of demographics features (e.g., `Sex`, `DateOfBirth`, `Married`), loan details (e.g., `Amount`, `Purpose`), credit history (e.g., number of loans), as well as an indicator (called `BadCredit` in the dataset) as to whether that person was a bad risk.\n",
        "\n",
        "\n",
        "**Your tasks**\n",
        "\n",
        "To examine the effects of the various ML stages, you are to create the model several times, each time adding more sophistication, and measuring how much the model improved (or not). In particular, you will:\n",
        "\n",
        "0. Split the data in training and testing. Don't touch the testing data again, for any reason, until step 5. We are pretending that the testing data is \"future, unseen data that our model won't see until production.\" I'm serious, don't touch it. I'm watching you!\n",
        "1. Build a baseline model - no feature engineering, no feature selection, no hyperparameter tuning (just use the default settings), nothing fancy. (You may need to do some basic feature transformations, e.g., encoding of categorical features, or dropping of features you do not think will help or do not want to deal with yet.) Measure the performance using K-fold cross validation (recommended: [`sklearn.model_selection.cross_val_score`](https://scikit-learn.org/stable/modules/generated/sklearn.model_selection.cross_val_score.html#sklearn.model_selection.cross_val_score)) on the training data. Use at least 5 folds, but more are better. Choose a [`scoring` parameter](https://scikit-learn.org/stable/modules/model_evaluation.html#scoring-parameter) (i.e., classification metric) that you feel is appropriate for this task. Don't use accuracy. Print the mean score of your model.\n",
        "2. Add a bit of feature engineering. The [`sklearn.preprocessing`](https://scikit-learn.org/stable/modules/classes.html#module-sklearn.preprocessing) module contains many useful transformations. Engineer at least three new features. They don't need to be especially ground-breaking or complicated. Dimensionality reduction techniques like [`sklearn.decomposition.PCA`](https://scikit-learn.org/stable/modules/generated/sklearn.decomposition.PCA.html) are fair game but not required. (If you do use dimensionality reduction techniques, it would only count as \"one\" new feature for the purposes of this assignment, even though I realize that PCA creates many new \"features\" (i.e., principal componentns).) Re-train your baseline model. Measure performance. Compare to step 1.\n",
        "3. Add feature selection. The [`sklearn.feature_selection`](https://scikit-learn.org/stable/modules/classes.html#module-sklearn.feature_selection) has some algorithms for you to choose from. After selecting features, re-train your model, measure performance, and compare to step 2.\n",
        "4. Add hyperparameter tuning. Make reasonable choices and try to find the best (or at least, better) hyperparameters for your estimator and/or transformers. It's probably a good idea to stop using `cross_val_score` at this point and start using [`sklearn.model_selection.GridSearchCV`](https://scikit-learn.org/stable/modules/generated/sklearn.model_selection.GridSearchCV.html#sklearn.model_selection.GridSearchCV) as it is specifically built for this purpose and is more convienient to use. Measure performance and compare to step 3.\n",
        "5. Finally, estimate how well your model will work in production. Use the testing data (our \"future, unseen data\") from step 0. Transform the data as appropriate (easy if you've built a pipeline, a little more difficult if not), use the model from step 4 to get predictions, and measure the performance. How well did we do? \n",
        "\n",
        "\n",
        "\n"
      ]
    },
    {
      "cell_type": "markdown",
      "metadata": {
        "id": "jqm_REd4oouz"
      },
      "source": [
        "## 3.0: Load data and split"
      ]
    },
    {
      "cell_type": "code",
      "execution_count": null,
      "metadata": {
        "colab": {
          "base_uri": "https://localhost:8080/"
        },
        "id": "X6b_BM0Nz9sF",
        "outputId": "836ee3d5-cf09-45d9-941d-416e9338a81a"
      },
      "outputs": [
        {
          "output_type": "stream",
          "name": "stdout",
          "text": [
            "<class 'pandas.core.frame.DataFrame'>\n",
            "RangeIndex: 6000 entries, 0 to 5999\n",
            "Data columns (total 17 columns):\n",
            " #   Column             Non-Null Count  Dtype \n",
            "---  ------             --------------  ----- \n",
            " 0   UserID             6000 non-null   object\n",
            " 1   Sex                6000 non-null   object\n",
            " 2   PreviousDefault    6000 non-null   int64 \n",
            " 3   FirstName          6000 non-null   object\n",
            " 4   LastName           6000 non-null   object\n",
            " 5   NumberPets         6000 non-null   int64 \n",
            " 6   PreviousAccounts   6000 non-null   int64 \n",
            " 7   ResidenceDuration  6000 non-null   int64 \n",
            " 8   Street             6000 non-null   object\n",
            " 9   LicensePlate       6000 non-null   object\n",
            " 10  BadCredit          6000 non-null   int64 \n",
            " 11  Amount             6000 non-null   int64 \n",
            " 12  Married            6000 non-null   int64 \n",
            " 13  Duration           6000 non-null   int64 \n",
            " 14  City               6000 non-null   object\n",
            " 15  Purpose            6000 non-null   object\n",
            " 16  DateOfBirth        6000 non-null   object\n",
            "dtypes: int64(8), object(9)\n",
            "memory usage: 797.0+ KB\n"
          ]
        }
      ],
      "source": [
        "#@title\n",
        "# DO NOT MODIFY THIS CELL\n",
        "\n",
        "# First, we'll read the provided labeled training data\n",
        "df3 = pd.read_csv(\"https://drive.google.com/uc?export=download&id=1wOhyCnvGeY4jplxI8lZ-bbYN3zLtickf\")\n",
        "df3.info()\n",
        "\n",
        "from sklearn.model_selection import train_test_split\n",
        "\n",
        "X = df3.drop('BadCredit', axis=1) #.select_dtypes(['number'])\n",
        "y = df3['BadCredit']\n",
        "\n",
        "X_train, X_test, y_train, y_test = train_test_split(X, y, test_size=0.2, random_state=42)"
      ]
    },
    {
      "cell_type": "markdown",
      "metadata": {
        "id": "sdiKKblCo53S"
      },
      "source": [
        "## 3.1: Baseline model"
      ]
    },
    {
      "cell_type": "code",
      "execution_count": null,
      "metadata": {
        "colab": {
          "base_uri": "https://localhost:8080/"
        },
        "id": "mSumAZUAo9O6",
        "outputId": "2be41aff-5766-4426-e057-0d4d769d2010"
      },
      "outputs": [
        {
          "output_type": "execute_result",
          "data": {
            "text/plain": [
              "UserID               0\n",
              "Sex                  0\n",
              "PreviousDefault      0\n",
              "FirstName            0\n",
              "LastName             0\n",
              "NumberPets           0\n",
              "PreviousAccounts     0\n",
              "ResidenceDuration    0\n",
              "Street               0\n",
              "LicensePlate         0\n",
              "Amount               0\n",
              "Married              0\n",
              "Duration             0\n",
              "City                 0\n",
              "Purpose              0\n",
              "DateOfBirth          0\n",
              "dtype: int64"
            ]
          },
          "metadata": {},
          "execution_count": 43
        }
      ],
      "source": [
        "# Check for NULL values\n",
        "X_train.isnull().sum()"
      ]
    },
    {
      "cell_type": "code",
      "execution_count": null,
      "metadata": {
        "id": "JSuGw9Qxg9W7"
      },
      "outputs": [],
      "source": [
        "# creating a custom function to change DateOfBirth to Age for better calculations\n",
        "\n",
        "from datetime import date\n",
        "\n",
        "def calculate_age(born):\n",
        "    today = date.today()\n",
        "    return today.year - born.year - ((today.month, today.day) < (born.month, born.day))\n",
        "\n",
        "X_train['DateOfBirth'] = pd.to_datetime(X_train['DateOfBirth'], errors='coerce')\n",
        "X_train['Age'] = X_train['DateOfBirth'].apply(calculate_age)"
      ]
    },
    {
      "cell_type": "code",
      "execution_count": null,
      "metadata": {
        "colab": {
          "base_uri": "https://localhost:8080/",
          "height": 400
        },
        "id": "Ng1vL1q4kC5r",
        "outputId": "aa57210d-1dae-4f64-ed67-f19d11ba7fbf"
      },
      "outputs": [
        {
          "output_type": "execute_result",
          "data": {
            "text/html": [
              "<div>\n",
              "<style scoped>\n",
              "    .dataframe tbody tr th:only-of-type {\n",
              "        vertical-align: middle;\n",
              "    }\n",
              "\n",
              "    .dataframe tbody tr th {\n",
              "        vertical-align: top;\n",
              "    }\n",
              "\n",
              "    .dataframe thead th {\n",
              "        text-align: right;\n",
              "    }\n",
              "</style>\n",
              "<table border=\"1\" class=\"dataframe\">\n",
              "  <thead>\n",
              "    <tr style=\"text-align: right;\">\n",
              "      <th></th>\n",
              "      <th>UserID</th>\n",
              "      <th>Sex</th>\n",
              "      <th>PreviousDefault</th>\n",
              "      <th>FirstName</th>\n",
              "      <th>LastName</th>\n",
              "      <th>NumberPets</th>\n",
              "      <th>PreviousAccounts</th>\n",
              "      <th>ResidenceDuration</th>\n",
              "      <th>Street</th>\n",
              "      <th>LicensePlate</th>\n",
              "      <th>Amount</th>\n",
              "      <th>Married</th>\n",
              "      <th>Duration</th>\n",
              "      <th>City</th>\n",
              "      <th>Purpose</th>\n",
              "      <th>DateOfBirth</th>\n",
              "      <th>Age</th>\n",
              "      <th>Purpose_Business</th>\n",
              "      <th>Purpose_Education</th>\n",
              "      <th>Purpose_Household</th>\n",
              "      <th>Purpose_NewCar</th>\n",
              "      <th>Purpose_Other</th>\n",
              "      <th>Purpose_Repair</th>\n",
              "      <th>Purpose_UsedCar</th>\n",
              "      <th>Purpose_Vacation</th>\n",
              "    </tr>\n",
              "  </thead>\n",
              "  <tbody>\n",
              "    <tr>\n",
              "      <th>3897</th>\n",
              "      <td>236-22-6766</td>\n",
              "      <td>M</td>\n",
              "      <td>0</td>\n",
              "      <td>Jerry</td>\n",
              "      <td>Black</td>\n",
              "      <td>2</td>\n",
              "      <td>0</td>\n",
              "      <td>2</td>\n",
              "      <td>0466 Brown Wall</td>\n",
              "      <td>3-U8282</td>\n",
              "      <td>3329</td>\n",
              "      <td>0</td>\n",
              "      <td>12</td>\n",
              "      <td>New Roberttown</td>\n",
              "      <td>Household</td>\n",
              "      <td>1970-04-22</td>\n",
              "      <td>51</td>\n",
              "      <td>0</td>\n",
              "      <td>0</td>\n",
              "      <td>1</td>\n",
              "      <td>0</td>\n",
              "      <td>0</td>\n",
              "      <td>0</td>\n",
              "      <td>0</td>\n",
              "      <td>0</td>\n",
              "    </tr>\n",
              "    <tr>\n",
              "      <th>5628</th>\n",
              "      <td>766-20-5986</td>\n",
              "      <td>F</td>\n",
              "      <td>0</td>\n",
              "      <td>Julia</td>\n",
              "      <td>Jones</td>\n",
              "      <td>0</td>\n",
              "      <td>2</td>\n",
              "      <td>2</td>\n",
              "      <td>6095 Larson Causeway</td>\n",
              "      <td>LWO 912</td>\n",
              "      <td>2996</td>\n",
              "      <td>0</td>\n",
              "      <td>36</td>\n",
              "      <td>Ericmouth</td>\n",
              "      <td>Household</td>\n",
              "      <td>1964-06-19</td>\n",
              "      <td>57</td>\n",
              "      <td>0</td>\n",
              "      <td>0</td>\n",
              "      <td>1</td>\n",
              "      <td>0</td>\n",
              "      <td>0</td>\n",
              "      <td>0</td>\n",
              "      <td>0</td>\n",
              "      <td>0</td>\n",
              "    </tr>\n",
              "    <tr>\n",
              "      <th>1756</th>\n",
              "      <td>744-25-5747</td>\n",
              "      <td>F</td>\n",
              "      <td>0</td>\n",
              "      <td>Abigail</td>\n",
              "      <td>Estrada</td>\n",
              "      <td>2</td>\n",
              "      <td>0</td>\n",
              "      <td>3</td>\n",
              "      <td>293 Michael Divide</td>\n",
              "      <td>715 OQT</td>\n",
              "      <td>2470</td>\n",
              "      <td>0</td>\n",
              "      <td>24</td>\n",
              "      <td>East Jill</td>\n",
              "      <td>NewCar</td>\n",
              "      <td>1975-02-17</td>\n",
              "      <td>46</td>\n",
              "      <td>0</td>\n",
              "      <td>0</td>\n",
              "      <td>0</td>\n",
              "      <td>1</td>\n",
              "      <td>0</td>\n",
              "      <td>0</td>\n",
              "      <td>0</td>\n",
              "      <td>0</td>\n",
              "    </tr>\n",
              "    <tr>\n",
              "      <th>2346</th>\n",
              "      <td>463-78-3098</td>\n",
              "      <td>F</td>\n",
              "      <td>0</td>\n",
              "      <td>Jessica</td>\n",
              "      <td>Jones</td>\n",
              "      <td>2</td>\n",
              "      <td>1</td>\n",
              "      <td>2</td>\n",
              "      <td>02759 Williams Roads</td>\n",
              "      <td>869 SYK</td>\n",
              "      <td>3745</td>\n",
              "      <td>0</td>\n",
              "      <td>30</td>\n",
              "      <td>Lake Debra</td>\n",
              "      <td>UsedCar</td>\n",
              "      <td>1977-02-16</td>\n",
              "      <td>44</td>\n",
              "      <td>0</td>\n",
              "      <td>0</td>\n",
              "      <td>0</td>\n",
              "      <td>0</td>\n",
              "      <td>0</td>\n",
              "      <td>0</td>\n",
              "      <td>1</td>\n",
              "      <td>0</td>\n",
              "    </tr>\n",
              "    <tr>\n",
              "      <th>2996</th>\n",
              "      <td>414-44-6527</td>\n",
              "      <td>M</td>\n",
              "      <td>0</td>\n",
              "      <td>William</td>\n",
              "      <td>Shaffer</td>\n",
              "      <td>0</td>\n",
              "      <td>1</td>\n",
              "      <td>3</td>\n",
              "      <td>19797 Turner Rue</td>\n",
              "      <td>48-A601</td>\n",
              "      <td>3549</td>\n",
              "      <td>0</td>\n",
              "      <td>36</td>\n",
              "      <td>North Judithbury</td>\n",
              "      <td>Vacation</td>\n",
              "      <td>1976-07-27</td>\n",
              "      <td>45</td>\n",
              "      <td>0</td>\n",
              "      <td>0</td>\n",
              "      <td>0</td>\n",
              "      <td>0</td>\n",
              "      <td>0</td>\n",
              "      <td>0</td>\n",
              "      <td>0</td>\n",
              "      <td>1</td>\n",
              "    </tr>\n",
              "  </tbody>\n",
              "</table>\n",
              "</div>"
            ],
            "text/plain": [
              "           UserID Sex  ...  Purpose_UsedCar Purpose_Vacation\n",
              "3897  236-22-6766   M  ...                0                0\n",
              "5628  766-20-5986   F  ...                0                0\n",
              "1756  744-25-5747   F  ...                0                0\n",
              "2346  463-78-3098   F  ...                1                0\n",
              "2996  414-44-6527   M  ...                0                1\n",
              "\n",
              "[5 rows x 25 columns]"
            ]
          },
          "metadata": {},
          "execution_count": 45
        }
      ],
      "source": [
        "# one hot encoding the feature Purpose\n",
        "X_train = pd.concat([X_train, pd.get_dummies(X_train['Purpose'], prefix='Purpose')], axis=1)\n",
        "X_train.head()"
      ]
    },
    {
      "cell_type": "code",
      "execution_count": null,
      "metadata": {
        "colab": {
          "base_uri": "https://localhost:8080/",
          "height": 226
        },
        "id": "nGwyO57MPQJU",
        "outputId": "474b8d7e-3cd1-485e-b82c-a0bd4699ba5a"
      },
      "outputs": [
        {
          "output_type": "execute_result",
          "data": {
            "text/html": [
              "<div>\n",
              "<style scoped>\n",
              "    .dataframe tbody tr th:only-of-type {\n",
              "        vertical-align: middle;\n",
              "    }\n",
              "\n",
              "    .dataframe tbody tr th {\n",
              "        vertical-align: top;\n",
              "    }\n",
              "\n",
              "    .dataframe thead th {\n",
              "        text-align: right;\n",
              "    }\n",
              "</style>\n",
              "<table border=\"1\" class=\"dataframe\">\n",
              "  <thead>\n",
              "    <tr style=\"text-align: right;\">\n",
              "      <th></th>\n",
              "      <th>Sex</th>\n",
              "      <th>PreviousDefault</th>\n",
              "      <th>PreviousAccounts</th>\n",
              "      <th>ResidenceDuration</th>\n",
              "      <th>Amount</th>\n",
              "      <th>Married</th>\n",
              "      <th>Duration</th>\n",
              "      <th>Age</th>\n",
              "      <th>Purpose_Business</th>\n",
              "      <th>Purpose_Education</th>\n",
              "      <th>Purpose_Household</th>\n",
              "      <th>Purpose_NewCar</th>\n",
              "      <th>Purpose_Other</th>\n",
              "      <th>Purpose_Repair</th>\n",
              "      <th>Purpose_UsedCar</th>\n",
              "      <th>Purpose_Vacation</th>\n",
              "    </tr>\n",
              "  </thead>\n",
              "  <tbody>\n",
              "    <tr>\n",
              "      <th>3897</th>\n",
              "      <td>M</td>\n",
              "      <td>0</td>\n",
              "      <td>0</td>\n",
              "      <td>2</td>\n",
              "      <td>3329</td>\n",
              "      <td>0</td>\n",
              "      <td>12</td>\n",
              "      <td>51</td>\n",
              "      <td>0</td>\n",
              "      <td>0</td>\n",
              "      <td>1</td>\n",
              "      <td>0</td>\n",
              "      <td>0</td>\n",
              "      <td>0</td>\n",
              "      <td>0</td>\n",
              "      <td>0</td>\n",
              "    </tr>\n",
              "    <tr>\n",
              "      <th>5628</th>\n",
              "      <td>F</td>\n",
              "      <td>0</td>\n",
              "      <td>2</td>\n",
              "      <td>2</td>\n",
              "      <td>2996</td>\n",
              "      <td>0</td>\n",
              "      <td>36</td>\n",
              "      <td>57</td>\n",
              "      <td>0</td>\n",
              "      <td>0</td>\n",
              "      <td>1</td>\n",
              "      <td>0</td>\n",
              "      <td>0</td>\n",
              "      <td>0</td>\n",
              "      <td>0</td>\n",
              "      <td>0</td>\n",
              "    </tr>\n",
              "    <tr>\n",
              "      <th>1756</th>\n",
              "      <td>F</td>\n",
              "      <td>0</td>\n",
              "      <td>0</td>\n",
              "      <td>3</td>\n",
              "      <td>2470</td>\n",
              "      <td>0</td>\n",
              "      <td>24</td>\n",
              "      <td>46</td>\n",
              "      <td>0</td>\n",
              "      <td>0</td>\n",
              "      <td>0</td>\n",
              "      <td>1</td>\n",
              "      <td>0</td>\n",
              "      <td>0</td>\n",
              "      <td>0</td>\n",
              "      <td>0</td>\n",
              "    </tr>\n",
              "    <tr>\n",
              "      <th>2346</th>\n",
              "      <td>F</td>\n",
              "      <td>0</td>\n",
              "      <td>1</td>\n",
              "      <td>2</td>\n",
              "      <td>3745</td>\n",
              "      <td>0</td>\n",
              "      <td>30</td>\n",
              "      <td>44</td>\n",
              "      <td>0</td>\n",
              "      <td>0</td>\n",
              "      <td>0</td>\n",
              "      <td>0</td>\n",
              "      <td>0</td>\n",
              "      <td>0</td>\n",
              "      <td>1</td>\n",
              "      <td>0</td>\n",
              "    </tr>\n",
              "    <tr>\n",
              "      <th>2996</th>\n",
              "      <td>M</td>\n",
              "      <td>0</td>\n",
              "      <td>1</td>\n",
              "      <td>3</td>\n",
              "      <td>3549</td>\n",
              "      <td>0</td>\n",
              "      <td>36</td>\n",
              "      <td>45</td>\n",
              "      <td>0</td>\n",
              "      <td>0</td>\n",
              "      <td>0</td>\n",
              "      <td>0</td>\n",
              "      <td>0</td>\n",
              "      <td>0</td>\n",
              "      <td>0</td>\n",
              "      <td>1</td>\n",
              "    </tr>\n",
              "  </tbody>\n",
              "</table>\n",
              "</div>"
            ],
            "text/plain": [
              "     Sex  PreviousDefault  ...  Purpose_UsedCar  Purpose_Vacation\n",
              "3897   M                0  ...                0                 0\n",
              "5628   F                0  ...                0                 0\n",
              "1756   F                0  ...                0                 0\n",
              "2346   F                0  ...                1                 0\n",
              "2996   M                0  ...                0                 1\n",
              "\n",
              "[5 rows x 16 columns]"
            ]
          },
          "metadata": {},
          "execution_count": 46
        }
      ],
      "source": [
        "# removing unnecessary features\n",
        "X_train.drop([ 'UserID', 'FirstName', 'LastName', 'Street', 'LicensePlate', 'City', 'DateOfBirth', 'Purpose', 'NumberPets'],axis=1, inplace=True)\n",
        "X_train.head()"
      ]
    },
    {
      "cell_type": "code",
      "execution_count": null,
      "metadata": {
        "colab": {
          "base_uri": "https://localhost:8080/",
          "height": 226
        },
        "id": "X7TMALncWgTq",
        "outputId": "ac34128f-982c-4e29-adbe-da28dfd90f95"
      },
      "outputs": [
        {
          "output_type": "execute_result",
          "data": {
            "text/html": [
              "<div>\n",
              "<style scoped>\n",
              "    .dataframe tbody tr th:only-of-type {\n",
              "        vertical-align: middle;\n",
              "    }\n",
              "\n",
              "    .dataframe tbody tr th {\n",
              "        vertical-align: top;\n",
              "    }\n",
              "\n",
              "    .dataframe thead th {\n",
              "        text-align: right;\n",
              "    }\n",
              "</style>\n",
              "<table border=\"1\" class=\"dataframe\">\n",
              "  <thead>\n",
              "    <tr style=\"text-align: right;\">\n",
              "      <th></th>\n",
              "      <th>Sex</th>\n",
              "      <th>PreviousDefault</th>\n",
              "      <th>PreviousAccounts</th>\n",
              "      <th>ResidenceDuration</th>\n",
              "      <th>Amount</th>\n",
              "      <th>Married</th>\n",
              "      <th>Duration</th>\n",
              "      <th>Age</th>\n",
              "      <th>Purpose_Business</th>\n",
              "      <th>Purpose_Education</th>\n",
              "      <th>Purpose_Household</th>\n",
              "      <th>Purpose_NewCar</th>\n",
              "      <th>Purpose_Other</th>\n",
              "      <th>Purpose_Repair</th>\n",
              "      <th>Purpose_UsedCar</th>\n",
              "      <th>Purpose_Vacation</th>\n",
              "    </tr>\n",
              "  </thead>\n",
              "  <tbody>\n",
              "    <tr>\n",
              "      <th>3897</th>\n",
              "      <td>1</td>\n",
              "      <td>0</td>\n",
              "      <td>0</td>\n",
              "      <td>2</td>\n",
              "      <td>3329</td>\n",
              "      <td>0</td>\n",
              "      <td>12</td>\n",
              "      <td>51</td>\n",
              "      <td>0</td>\n",
              "      <td>0</td>\n",
              "      <td>1</td>\n",
              "      <td>0</td>\n",
              "      <td>0</td>\n",
              "      <td>0</td>\n",
              "      <td>0</td>\n",
              "      <td>0</td>\n",
              "    </tr>\n",
              "    <tr>\n",
              "      <th>5628</th>\n",
              "      <td>0</td>\n",
              "      <td>0</td>\n",
              "      <td>2</td>\n",
              "      <td>2</td>\n",
              "      <td>2996</td>\n",
              "      <td>0</td>\n",
              "      <td>36</td>\n",
              "      <td>57</td>\n",
              "      <td>0</td>\n",
              "      <td>0</td>\n",
              "      <td>1</td>\n",
              "      <td>0</td>\n",
              "      <td>0</td>\n",
              "      <td>0</td>\n",
              "      <td>0</td>\n",
              "      <td>0</td>\n",
              "    </tr>\n",
              "    <tr>\n",
              "      <th>1756</th>\n",
              "      <td>0</td>\n",
              "      <td>0</td>\n",
              "      <td>0</td>\n",
              "      <td>3</td>\n",
              "      <td>2470</td>\n",
              "      <td>0</td>\n",
              "      <td>24</td>\n",
              "      <td>46</td>\n",
              "      <td>0</td>\n",
              "      <td>0</td>\n",
              "      <td>0</td>\n",
              "      <td>1</td>\n",
              "      <td>0</td>\n",
              "      <td>0</td>\n",
              "      <td>0</td>\n",
              "      <td>0</td>\n",
              "    </tr>\n",
              "    <tr>\n",
              "      <th>2346</th>\n",
              "      <td>0</td>\n",
              "      <td>0</td>\n",
              "      <td>1</td>\n",
              "      <td>2</td>\n",
              "      <td>3745</td>\n",
              "      <td>0</td>\n",
              "      <td>30</td>\n",
              "      <td>44</td>\n",
              "      <td>0</td>\n",
              "      <td>0</td>\n",
              "      <td>0</td>\n",
              "      <td>0</td>\n",
              "      <td>0</td>\n",
              "      <td>0</td>\n",
              "      <td>1</td>\n",
              "      <td>0</td>\n",
              "    </tr>\n",
              "    <tr>\n",
              "      <th>2996</th>\n",
              "      <td>1</td>\n",
              "      <td>0</td>\n",
              "      <td>1</td>\n",
              "      <td>3</td>\n",
              "      <td>3549</td>\n",
              "      <td>0</td>\n",
              "      <td>36</td>\n",
              "      <td>45</td>\n",
              "      <td>0</td>\n",
              "      <td>0</td>\n",
              "      <td>0</td>\n",
              "      <td>0</td>\n",
              "      <td>0</td>\n",
              "      <td>0</td>\n",
              "      <td>0</td>\n",
              "      <td>1</td>\n",
              "    </tr>\n",
              "  </tbody>\n",
              "</table>\n",
              "</div>"
            ],
            "text/plain": [
              "      Sex  PreviousDefault  ...  Purpose_UsedCar  Purpose_Vacation\n",
              "3897    1                0  ...                0                 0\n",
              "5628    0                0  ...                0                 0\n",
              "1756    0                0  ...                0                 0\n",
              "2346    0                0  ...                1                 0\n",
              "2996    1                0  ...                0                 1\n",
              "\n",
              "[5 rows x 16 columns]"
            ]
          },
          "metadata": {},
          "execution_count": 47
        }
      ],
      "source": [
        "# Label encoding \"Sex\" column\n",
        "X_train['Sex'] = X_train['Sex'].map( {'M':1, 'F':0} )\n",
        "X_train.head()"
      ]
    },
    {
      "cell_type": "code",
      "execution_count": null,
      "metadata": {
        "colab": {
          "base_uri": "https://localhost:8080/"
        },
        "id": "YIZRKou-i8Jj",
        "outputId": "589e16e2-d203-4e95-8d99-4e6694e183c8"
      },
      "outputs": [
        {
          "output_type": "stream",
          "name": "stdout",
          "text": [
            "F1: 0.77 (+/- 0.05)\n"
          ]
        }
      ],
      "source": [
        "from sklearn.ensemble import RandomForestClassifier\n",
        "from sklearn.model_selection import cross_val_score\n",
        "from sklearn import metrics\n",
        "\n",
        "clf_rf = RandomForestClassifier(\n",
        "    n_estimators=100, max_depth=None)\n",
        "clf_rf.fit(X_train, y_train)\n",
        "\n",
        "\n",
        "scores = cross_val_score(clf_rf, X_train, y_train, cv=7, scoring='f1_macro')\n",
        "\n",
        "scores\n",
        "print(\"F1: %0.2f (+/- %0.2f)\" % (scores.mean(), scores.std() * 2))\n"
      ]
    },
    {
      "cell_type": "markdown",
      "metadata": {
        "id": "ugyTS51Ko5vz"
      },
      "source": [
        "## 3.2: Feature engineering"
      ]
    },
    {
      "cell_type": "code",
      "execution_count": null,
      "metadata": {
        "colab": {
          "base_uri": "https://localhost:8080/"
        },
        "id": "w_HFie9g4VQB",
        "outputId": "0e88c302-1b85-4c8b-be60-4e7b0f0e25f2"
      },
      "outputs": [
        {
          "output_type": "stream",
          "name": "stdout",
          "text": [
            "4967\n",
            "1033\n"
          ]
        }
      ],
      "source": [
        "# Balancing Dataset\n",
        "# number of 1's and 0's in Y_train\n",
        "print(df3.BadCredit[df3.BadCredit==0].count())\n",
        "print(df3.BadCredit[df3.BadCredit==1].count())"
      ]
    },
    {
      "cell_type": "code",
      "execution_count": null,
      "metadata": {
        "id": "INF7l2t14_7J"
      },
      "outputs": [],
      "source": [
        "import imblearn\n",
        "from imblearn import under_sampling, over_sampling\n",
        "from imblearn.over_sampling import SMOTE\n",
        "oversample = SMOTE()\n",
        "X_train, y_train = oversample.fit_resample(X_train, y_train)"
      ]
    },
    {
      "cell_type": "code",
      "execution_count": null,
      "metadata": {
        "id": "MhsuKthKxV4K"
      },
      "outputs": [],
      "source": [
        "# Scaling\n",
        "from sklearn.preprocessing import RobustScaler\n",
        "rb = RobustScaler()\n",
        "X_train = rb.fit_transform(X_train)"
      ]
    },
    {
      "cell_type": "code",
      "execution_count": null,
      "metadata": {
        "id": "eBSXmHzSvi7_"
      },
      "outputs": [],
      "source": [
        "X_train = pd.DataFrame(data= X_train, columns = [\t'Sex'\t,'PreviousDefault',\t'PreviousAccounts',\t'ResidenceDuration',\t'Amount',\t'Married',\t'Duration',\t'Age', 'Purpose_Business',\t'Purpose_Education',\t'Purpose_Household',\t'Purpose_NewCar',\t'Purpose_Other',\t'Purpose_Repair',\t'Purpose_UsedCar',\t'Purpose_Vacation'])\n"
      ]
    },
    {
      "cell_type": "code",
      "execution_count": null,
      "metadata": {
        "colab": {
          "base_uri": "https://localhost:8080/",
          "height": 320
        },
        "id": "OxcH5V5hvnT6",
        "outputId": "a1d7d8c2-7dc5-41c3-cb1c-7c47b30b3dfb"
      },
      "outputs": [
        {
          "output_type": "execute_result",
          "data": {
            "text/html": [
              "<div>\n",
              "<style scoped>\n",
              "    .dataframe tbody tr th:only-of-type {\n",
              "        vertical-align: middle;\n",
              "    }\n",
              "\n",
              "    .dataframe tbody tr th {\n",
              "        vertical-align: top;\n",
              "    }\n",
              "\n",
              "    .dataframe thead th {\n",
              "        text-align: right;\n",
              "    }\n",
              "</style>\n",
              "<table border=\"1\" class=\"dataframe\">\n",
              "  <thead>\n",
              "    <tr style=\"text-align: right;\">\n",
              "      <th></th>\n",
              "      <th>Sex</th>\n",
              "      <th>PreviousDefault</th>\n",
              "      <th>PreviousAccounts</th>\n",
              "      <th>ResidenceDuration</th>\n",
              "      <th>Amount</th>\n",
              "      <th>Married</th>\n",
              "      <th>Duration</th>\n",
              "      <th>Age</th>\n",
              "      <th>Purpose_Business</th>\n",
              "      <th>Purpose_Education</th>\n",
              "      <th>Purpose_Household</th>\n",
              "      <th>Purpose_NewCar</th>\n",
              "      <th>Purpose_Other</th>\n",
              "      <th>Purpose_Repair</th>\n",
              "      <th>Purpose_UsedCar</th>\n",
              "      <th>Purpose_Vacation</th>\n",
              "    </tr>\n",
              "  </thead>\n",
              "  <tbody>\n",
              "    <tr>\n",
              "      <th>count</th>\n",
              "      <td>7952.000000</td>\n",
              "      <td>7952.000000</td>\n",
              "      <td>7952.000000</td>\n",
              "      <td>7952.000000</td>\n",
              "      <td>7952.000000</td>\n",
              "      <td>7952.000000</td>\n",
              "      <td>7952.000000</td>\n",
              "      <td>7952.000000</td>\n",
              "      <td>7952.000000</td>\n",
              "      <td>7952.000000</td>\n",
              "      <td>7952.000000</td>\n",
              "      <td>7952.000000</td>\n",
              "      <td>7952.000000</td>\n",
              "      <td>7952.000000</td>\n",
              "      <td>7952.000000</td>\n",
              "      <td>7952.000000</td>\n",
              "    </tr>\n",
              "    <tr>\n",
              "      <th>mean</th>\n",
              "      <td>0.225101</td>\n",
              "      <td>0.012198</td>\n",
              "      <td>-0.118838</td>\n",
              "      <td>-0.096391</td>\n",
              "      <td>-0.079721</td>\n",
              "      <td>0.393863</td>\n",
              "      <td>0.050155</td>\n",
              "      <td>-0.008803</td>\n",
              "      <td>0.008803</td>\n",
              "      <td>0.034205</td>\n",
              "      <td>0.063255</td>\n",
              "      <td>0.227616</td>\n",
              "      <td>0.101358</td>\n",
              "      <td>0.045397</td>\n",
              "      <td>0.162223</td>\n",
              "      <td>0.045272</td>\n",
              "    </tr>\n",
              "    <tr>\n",
              "      <th>std</th>\n",
              "      <td>0.417675</td>\n",
              "      <td>0.109777</td>\n",
              "      <td>0.926333</td>\n",
              "      <td>0.652276</td>\n",
              "      <td>0.719836</td>\n",
              "      <td>0.488636</td>\n",
              "      <td>0.747143</td>\n",
              "      <td>0.696523</td>\n",
              "      <td>0.093415</td>\n",
              "      <td>0.181767</td>\n",
              "      <td>0.243436</td>\n",
              "      <td>0.419320</td>\n",
              "      <td>0.301821</td>\n",
              "      <td>0.208187</td>\n",
              "      <td>0.368679</td>\n",
              "      <td>0.207912</td>\n",
              "    </tr>\n",
              "    <tr>\n",
              "      <th>min</th>\n",
              "      <td>0.000000</td>\n",
              "      <td>0.000000</td>\n",
              "      <td>-1.000000</td>\n",
              "      <td>-1.000000</td>\n",
              "      <td>-2.813993</td>\n",
              "      <td>0.000000</td>\n",
              "      <td>-1.500000</td>\n",
              "      <td>-2.000000</td>\n",
              "      <td>0.000000</td>\n",
              "      <td>0.000000</td>\n",
              "      <td>0.000000</td>\n",
              "      <td>0.000000</td>\n",
              "      <td>0.000000</td>\n",
              "      <td>0.000000</td>\n",
              "      <td>0.000000</td>\n",
              "      <td>0.000000</td>\n",
              "    </tr>\n",
              "    <tr>\n",
              "      <th>25%</th>\n",
              "      <td>0.000000</td>\n",
              "      <td>0.000000</td>\n",
              "      <td>-1.000000</td>\n",
              "      <td>-0.500000</td>\n",
              "      <td>-0.556314</td>\n",
              "      <td>0.000000</td>\n",
              "      <td>-0.500000</td>\n",
              "      <td>-0.555556</td>\n",
              "      <td>0.000000</td>\n",
              "      <td>0.000000</td>\n",
              "      <td>0.000000</td>\n",
              "      <td>0.000000</td>\n",
              "      <td>0.000000</td>\n",
              "      <td>0.000000</td>\n",
              "      <td>0.000000</td>\n",
              "      <td>0.000000</td>\n",
              "    </tr>\n",
              "    <tr>\n",
              "      <th>50%</th>\n",
              "      <td>0.000000</td>\n",
              "      <td>0.000000</td>\n",
              "      <td>0.000000</td>\n",
              "      <td>0.000000</td>\n",
              "      <td>0.000000</td>\n",
              "      <td>0.000000</td>\n",
              "      <td>0.000000</td>\n",
              "      <td>0.000000</td>\n",
              "      <td>0.000000</td>\n",
              "      <td>0.000000</td>\n",
              "      <td>0.000000</td>\n",
              "      <td>0.000000</td>\n",
              "      <td>0.000000</td>\n",
              "      <td>0.000000</td>\n",
              "      <td>0.000000</td>\n",
              "      <td>0.000000</td>\n",
              "    </tr>\n",
              "    <tr>\n",
              "      <th>75%</th>\n",
              "      <td>0.000000</td>\n",
              "      <td>0.000000</td>\n",
              "      <td>0.000000</td>\n",
              "      <td>0.500000</td>\n",
              "      <td>0.443686</td>\n",
              "      <td>1.000000</td>\n",
              "      <td>0.500000</td>\n",
              "      <td>0.444444</td>\n",
              "      <td>0.000000</td>\n",
              "      <td>0.000000</td>\n",
              "      <td>0.000000</td>\n",
              "      <td>0.000000</td>\n",
              "      <td>0.000000</td>\n",
              "      <td>0.000000</td>\n",
              "      <td>0.000000</td>\n",
              "      <td>0.000000</td>\n",
              "    </tr>\n",
              "    <tr>\n",
              "      <th>max</th>\n",
              "      <td>1.000000</td>\n",
              "      <td>1.000000</td>\n",
              "      <td>5.000000</td>\n",
              "      <td>3.500000</td>\n",
              "      <td>2.005119</td>\n",
              "      <td>1.000000</td>\n",
              "      <td>1.000000</td>\n",
              "      <td>2.333333</td>\n",
              "      <td>1.000000</td>\n",
              "      <td>1.000000</td>\n",
              "      <td>1.000000</td>\n",
              "      <td>1.000000</td>\n",
              "      <td>1.000000</td>\n",
              "      <td>1.000000</td>\n",
              "      <td>1.000000</td>\n",
              "      <td>1.000000</td>\n",
              "    </tr>\n",
              "  </tbody>\n",
              "</table>\n",
              "</div>"
            ],
            "text/plain": [
              "               Sex  PreviousDefault  ...  Purpose_UsedCar  Purpose_Vacation\n",
              "count  7952.000000      7952.000000  ...      7952.000000       7952.000000\n",
              "mean      0.225101         0.012198  ...         0.162223          0.045272\n",
              "std       0.417675         0.109777  ...         0.368679          0.207912\n",
              "min       0.000000         0.000000  ...         0.000000          0.000000\n",
              "25%       0.000000         0.000000  ...         0.000000          0.000000\n",
              "50%       0.000000         0.000000  ...         0.000000          0.000000\n",
              "75%       0.000000         0.000000  ...         0.000000          0.000000\n",
              "max       1.000000         1.000000  ...         1.000000          1.000000\n",
              "\n",
              "[8 rows x 16 columns]"
            ]
          },
          "metadata": {},
          "execution_count": 53
        }
      ],
      "source": [
        "X_train.describe()"
      ]
    },
    {
      "cell_type": "code",
      "execution_count": null,
      "metadata": {
        "colab": {
          "base_uri": "https://localhost:8080/",
          "height": 500
        },
        "id": "GAzoDJBaws7s",
        "outputId": "8d34194b-05f2-4c7d-81ee-8813b0ff0d05"
      },
      "outputs": [
        {
          "output_type": "display_data",
          "data": {
            "image/png": "[encoded data removed]",
            "text/plain": [
              "<Figure size 1440x864 with 18 Axes>"
            ]
          },
          "metadata": {
            "needs_background": "light"
          }
        }
      ],
      "source": [
        "fig, axes = plt.subplots(6,3, figsize=(20, 12))\n",
        "axes = axes.flatten()\n",
        "\n",
        "for ax,i in zip(axes,X_train.iloc[:30].columns):\n",
        "    sns.kdeplot(data= X_train.iloc[:30][i], ax=ax, fill=True,warn_singular=False)\n",
        "plt.show()"
      ]
    },
    {
      "cell_type": "markdown",
      "metadata": {
        "id": "htrqOMbt-iBo"
      },
      "source": [
        "Most fo the features are looking Normal, hence we dont need to perform any additional transformations on individual features"
      ]
    },
    {
      "cell_type": "code",
      "execution_count": null,
      "metadata": {
        "colab": {
          "base_uri": "https://localhost:8080/"
        },
        "id": "qd93hvHP1TVM",
        "outputId": "cb837f3e-69e4-4511-b389-20c13a528d27"
      },
      "outputs": [
        {
          "output_type": "stream",
          "name": "stdout",
          "text": [
            "F1: 0.91 (+/- 0.13)\n"
          ]
        }
      ],
      "source": [
        "\n",
        "\n",
        "clf_rf1 = RandomForestClassifier(\n",
        "    n_estimators=100, max_depth=None)\n",
        "clf_rf1.fit(X_train, y_train)\n",
        "\n",
        "\n",
        "scores1 = cross_val_score(clf_rf1, X_train, y_train, cv=7, scoring='f1_macro')\n",
        "\n",
        "scores1\n",
        "print(\"F1: %0.2f (+/- %0.2f)\" % (scores1.mean(), scores1.std() * 2))"
      ]
    },
    {
      "cell_type": "markdown",
      "metadata": {
        "id": "LpK6el0m7dwV"
      },
      "source": [
        "# Comparison of Step 1 and  Step 2\n",
        "\n",
        "## Enhancements in Step 2\n",
        "\n",
        "\n",
        "*   F1 Score increase from **0.76** to **0.91**\n",
        "*   Balancing the Dataset using **SMOTE** helped increasing the F1 \n",
        "*   Scaling using Robust Scaler helped, as it took care of the outliers and also helped in normalizing most of the features (I guess Log Transformations could have also helped)\n",
        "*   Binning the \"Age\" Variable helped, but it was gave a mean F1 score of **0.89**, hence I dropped it\n",
        "\n",
        "\n",
        "\n"
      ]
    },
    {
      "cell_type": "markdown",
      "metadata": {
        "id": "PsdD0clko5pz"
      },
      "source": [
        "## 3.3: Feature selection"
      ]
    },
    {
      "cell_type": "markdown",
      "metadata": {
        "id": "dgxtYbgxPdIa"
      },
      "source": [
        "## Using Information gain - mutual information in Classification"
      ]
    },
    {
      "cell_type": "code",
      "execution_count": null,
      "metadata": {
        "colab": {
          "base_uri": "https://localhost:8080/"
        },
        "id": "hUHAxWGHAKfb",
        "outputId": "492af6f0-1874-4761-894d-aba7f1840ced"
      },
      "outputs": [
        {
          "output_type": "execute_result",
          "data": {
            "text/plain": [
              "array([0.02, 0.01, 0.02, 0.02, 0.27, 0.03, 0.15, 0.25, 0.  , 0.01, 0.01,\n",
              "       0.02, 0.02, 0.01, 0.01, 0.01])"
            ]
          },
          "metadata": {},
          "execution_count": 56
        }
      ],
      "source": [
        "from sklearn.feature_selection import mutual_info_classif\n",
        "# determine the mutual information\n",
        "mutual_info = mutual_info_classif(X_train, y_train)\n",
        "mutual_info"
      ]
    },
    {
      "cell_type": "code",
      "execution_count": null,
      "metadata": {
        "colab": {
          "base_uri": "https://localhost:8080/"
        },
        "id": "bz8L_QepL9KF",
        "outputId": "49dcdcaa-4de5-430b-d340-9f4a45e80241"
      },
      "outputs": [
        {
          "output_type": "execute_result",
          "data": {
            "text/plain": [
              "Amount               0.271253\n",
              "Age                  0.253579\n",
              "Duration             0.150979\n",
              "Married              0.026893\n",
              "PreviousAccounts     0.024574\n",
              "Purpose_Other        0.017429\n",
              "Purpose_NewCar       0.016684\n",
              "Sex                  0.015305\n",
              "ResidenceDuration    0.015113\n",
              "PreviousDefault      0.013400\n",
              "Purpose_Vacation     0.012244\n",
              "Purpose_UsedCar      0.010358\n",
              "Purpose_Education    0.009605\n",
              "Purpose_Household    0.008943\n",
              "Purpose_Repair       0.007484\n",
              "Purpose_Business     0.000000\n",
              "dtype: float64"
            ]
          },
          "metadata": {},
          "execution_count": 57
        }
      ],
      "source": [
        "mutual_info = pd.Series(mutual_info)\n",
        "mutual_info.index = X_train.columns\n",
        "mutual_info.sort_values(ascending=False)"
      ]
    },
    {
      "cell_type": "code",
      "execution_count": null,
      "metadata": {
        "colab": {
          "base_uri": "https://localhost:8080/",
          "height": 422
        },
        "id": "wUt-ADP3M3Od",
        "outputId": "54a9e87f-5e8b-4501-faf9-73443ca65e36"
      },
      "outputs": [
        {
          "output_type": "execute_result",
          "data": {
            "text/plain": [
              "<matplotlib.axes._subplots.AxesSubplot at 0x7f2dbbbd1e90>"
            ]
          },
          "metadata": {},
          "execution_count": 58
        },
        {
          "output_type": "display_data",
          "data": {
            "image/png": "[encoded data removed]",
            "text/plain": [
              "<Figure size 1440x576 with 1 Axes>"
            ]
          },
          "metadata": {
            "needs_background": "light"
          }
        }
      ],
      "source": [
        "#let's plot the ordered mutual_info values per feature\n",
        "mutual_info.sort_values(ascending=False).plot.bar(figsize=(20, 8))"
      ]
    },
    {
      "cell_type": "code",
      "execution_count": null,
      "metadata": {
        "id": "QiZEI6RrNear"
      },
      "outputs": [],
      "source": [
        "X_train_SelectedFeatures = X_train[[\"Amount\", \"Age\", \"Duration\", \"Married\"]]"
      ]
    },
    {
      "cell_type": "code",
      "execution_count": null,
      "metadata": {
        "colab": {
          "base_uri": "https://localhost:8080/"
        },
        "id": "KKp3yItTOf6T",
        "outputId": "b0dac915-a5e4-4e60-f820-4fb38e8add1c"
      },
      "outputs": [
        {
          "output_type": "stream",
          "name": "stdout",
          "text": [
            "F1: 0.90 (+/- 0.13)\n"
          ]
        }
      ],
      "source": [
        "clf_rf2 = RandomForestClassifier(\n",
        "    n_estimators=100, max_depth=None)\n",
        "clf_rf2.fit(X_train_SelectedFeatures, y_train)\n",
        "\n",
        "\n",
        "scores2 = cross_val_score(clf_rf2, X_train_SelectedFeatures, y_train, cv=10, scoring='f1_macro')\n",
        "\n",
        "scores2\n",
        "print(\"F1: %0.2f (+/- %0.2f)\" % (scores2.mean(), scores1.std() * 2))"
      ]
    },
    {
      "cell_type": "markdown",
      "metadata": {
        "id": "N0i-pKPqQWx2"
      },
      "source": [
        "## Feature Selection using Correlation"
      ]
    },
    {
      "cell_type": "code",
      "execution_count": null,
      "metadata": {
        "colab": {
          "base_uri": "https://localhost:8080/",
          "height": 683
        },
        "id": "42hEvwxoQkGU",
        "outputId": "7e248600-0011-4162-cbfe-863e85954223"
      },
      "outputs": [
        {
          "output_type": "display_data",
          "data": {
            "image/png": "[encoded data removed]",
            "text/plain": [
              "<Figure size 864x720 with 2 Axes>"
            ]
          },
          "metadata": {
            "needs_background": "light"
          }
        }
      ],
      "source": [
        "import seaborn as sns\n",
        "#Using Pearson Correlation\n",
        "plt.figure(figsize=(12,10))\n",
        "cor = X_train.corr()\n",
        "sns.heatmap(cor, annot=True, cmap=plt.cm.CMRmap_r)\n",
        "plt.show()"
      ]
    },
    {
      "cell_type": "code",
      "execution_count": null,
      "metadata": {
        "id": "_7D8Cvw2Q1pN"
      },
      "outputs": [],
      "source": [
        "def correlation(dataset, threshold):\n",
        "    col_corr = set()  # Set of all the names of correlated columns\n",
        "    corr_matrix = dataset.corr()\n",
        "    for i in range(len(corr_matrix.columns)):\n",
        "        for j in range(i):\n",
        "            if abs(corr_matrix.iloc[i, j]) > threshold: # we are interested in absolute coeff value\n",
        "                colname = corr_matrix.columns[i]  # getting the name of column\n",
        "                col_corr.add(colname)\n",
        "    return col_corr"
      ]
    },
    {
      "cell_type": "code",
      "execution_count": null,
      "metadata": {
        "colab": {
          "base_uri": "https://localhost:8080/"
        },
        "id": "W-LUzUjeQ6jZ",
        "outputId": "a9ddcec8-a8f1-4c27-f647-83eaca3a1f45"
      },
      "outputs": [
        {
          "output_type": "execute_result",
          "data": {
            "text/plain": [
              "0"
            ]
          },
          "metadata": {},
          "execution_count": 63
        }
      ],
      "source": [
        "corr_features = correlation(X_train, 0.5)\n",
        "len(set(corr_features))"
      ]
    },
    {
      "cell_type": "markdown",
      "metadata": {
        "id": "PnmPwcfTRsKt"
      },
      "source": [
        "Not continuing with this approach because there seem to be no feature highly correlated."
      ]
    },
    {
      "cell_type": "markdown",
      "metadata": {
        "id": "Hea1L0znRxnK"
      },
      "source": [
        "# Comparison of Step 2 and  Step 3\n",
        "\n",
        "## No Enhancements observed after the Feature Selection Task in Step 3, probably becuase there's already not a lot features available in the X_train Dataset to drop\n",
        "\n",
        "\n",
        "*   F1 Score dropped from **0.91** to **0.90**\n",
        "*   I used 2 approaches for feature selection:\n",
        "1. **Using Information gain - mutual information in Classification**\n",
        "2. **Using Correlation**\n",
        "*   mutual information in Classification showed that there were only around 4 main features driving the accuracy of the model, which was right, but it did drop the F1 score by 1%\n",
        "*   Correlation did not give any results as no two features seem to be correlated, hence I did not use it for my analysis.\n",
        "*   Reducing the Correlation threshold to a very low value, I found that \"Age\" might have some correlation, but when I tried removing Age from the selected features and re-run the model, the F1 score dropped by 6%, therefore I did not take out the \"Age\" feature from X_train\n",
        "\n",
        "\n",
        "\n"
      ]
    },
    {
      "cell_type": "markdown",
      "metadata": {
        "id": "Ff4l2aNKo5fr"
      },
      "source": [
        "## 3.4: Hyperparameter tuning"
      ]
    },
    {
      "cell_type": "code",
      "execution_count": null,
      "metadata": {
        "colab": {
          "base_uri": "https://localhost:8080/"
        },
        "id": "XW754M5MUyyD",
        "outputId": "beee51de-e42b-4492-a79b-d2162c0f013e"
      },
      "outputs": [
        {
          "output_type": "stream",
          "name": "stdout",
          "text": [
            "Collecting optuna\n",
            "  Downloading optuna-2.10.0-py3-none-any.whl (308 kB)\n",
            "\u001b[K     |████████████████████████████████| 308 kB 5.1 MB/s \n",
            "\u001b[?25hCollecting cmaes>=0.8.2\n",
            "  Downloading cmaes-0.8.2-py3-none-any.whl (15 kB)\n",
            "Collecting cliff\n",
            "  Downloading cliff-3.10.0-py3-none-any.whl (80 kB)\n",
            "\u001b[K     |████████████████████████████████| 80 kB 10.9 MB/s \n",
            "\u001b[?25hRequirement already satisfied: numpy in /usr/local/lib/python3.7/dist-packages (from optuna) (1.19.5)\n",
            "Requirement already satisfied: tqdm in /usr/local/lib/python3.7/dist-packages (from optuna) (4.62.3)\n",
            "Requirement already satisfied: PyYAML in /usr/local/lib/python3.7/dist-packages (from optuna) (3.13)\n",
            "Requirement already satisfied: scipy!=1.4.0 in /usr/local/lib/python3.7/dist-packages (from optuna) (1.4.1)\n",
            "Collecting alembic\n",
            "  Downloading alembic-1.7.5-py3-none-any.whl (209 kB)\n",
            "\u001b[K     |████████████████████████████████| 209 kB 60.2 MB/s \n",
            "\u001b[?25hRequirement already satisfied: packaging>=20.0 in /usr/local/lib/python3.7/dist-packages (from optuna) (21.3)\n",
            "Collecting colorlog\n",
            "  Downloading colorlog-6.6.0-py2.py3-none-any.whl (11 kB)\n",
            "Requirement already satisfied: sqlalchemy>=1.1.0 in /usr/local/lib/python3.7/dist-packages (from optuna) (1.4.27)\n",
            "Requirement already satisfied: pyparsing!=3.0.5,>=2.0.2 in /usr/local/lib/python3.7/dist-packages (from packaging>=20.0->optuna) (3.0.6)\n",
            "Requirement already satisfied: greenlet!=0.4.17 in /usr/local/lib/python3.7/dist-packages (from sqlalchemy>=1.1.0->optuna) (1.1.2)\n",
            "Requirement already satisfied: importlib-metadata in /usr/local/lib/python3.7/dist-packages (from sqlalchemy>=1.1.0->optuna) (4.8.2)\n",
            "Requirement already satisfied: importlib-resources in /usr/local/lib/python3.7/dist-packages (from alembic->optuna) (5.4.0)\n",
            "Collecting Mako\n",
            "  Downloading Mako-1.1.6-py2.py3-none-any.whl (75 kB)\n",
            "\u001b[K     |████████████████████████████████| 75 kB 4.8 MB/s \n",
            "\u001b[?25hCollecting pbr!=2.1.0,>=2.0.0\n",
            "  Downloading pbr-5.8.0-py2.py3-none-any.whl (112 kB)\n",
            "\u001b[K     |████████████████████████████████| 112 kB 59.1 MB/s \n",
            "\u001b[?25hCollecting autopage>=0.4.0\n",
            "  Downloading autopage-0.4.0-py3-none-any.whl (20 kB)\n",
            "Collecting stevedore>=2.0.1\n",
            "  Downloading stevedore-3.5.0-py3-none-any.whl (49 kB)\n",
            "\u001b[K     |████████████████████████████████| 49 kB 6.7 MB/s \n",
            "\u001b[?25hRequirement already satisfied: PrettyTable>=0.7.2 in /usr/local/lib/python3.7/dist-packages (from cliff->optuna) (2.4.0)\n",
            "Collecting cmd2>=1.0.0\n",
            "  Downloading cmd2-2.3.3-py3-none-any.whl (149 kB)\n",
            "\u001b[K     |████████████████████████████████| 149 kB 58.6 MB/s \n",
            "\u001b[?25hRequirement already satisfied: attrs>=16.3.0 in /usr/local/lib/python3.7/dist-packages (from cmd2>=1.0.0->cliff->optuna) (21.2.0)\n",
            "Requirement already satisfied: typing-extensions in /usr/local/lib/python3.7/dist-packages (from cmd2>=1.0.0->cliff->optuna) (3.10.0.2)\n",
            "Requirement already satisfied: wcwidth>=0.1.7 in /usr/local/lib/python3.7/dist-packages (from cmd2>=1.0.0->cliff->optuna) (0.2.5)\n",
            "Collecting pyperclip>=1.6\n",
            "  Downloading pyperclip-1.8.2.tar.gz (20 kB)\n",
            "Requirement already satisfied: zipp>=0.5 in /usr/local/lib/python3.7/dist-packages (from importlib-metadata->sqlalchemy>=1.1.0->optuna) (3.6.0)\n",
            "Requirement already satisfied: MarkupSafe>=0.9.2 in /usr/local/lib/python3.7/dist-packages (from Mako->alembic->optuna) (2.0.1)\n",
            "Building wheels for collected packages: pyperclip\n",
            "  Building wheel for pyperclip (setup.py) ... \u001b[?25l\u001b[?25hdone\n",
            "  Created wheel for pyperclip: filename=pyperclip-1.8.2-py3-none-any.whl size=11136 sha256=e2cad19d15dc76facb9369409a1fa04144398bc5ddfe386b24c03c81accfe22e\n",
            "  Stored in directory: /root/.cache/pip/wheels/9f/18/84/8f69f8b08169c7bae2dde6bd7daf0c19fca8c8e500ee620a28\n",
            "Successfully built pyperclip\n",
            "Installing collected packages: pyperclip, pbr, stevedore, Mako, cmd2, autopage, colorlog, cmaes, cliff, alembic, optuna\n",
            "Successfully installed Mako-1.1.6 alembic-1.7.5 autopage-0.4.0 cliff-3.10.0 cmaes-0.8.2 cmd2-2.3.3 colorlog-6.6.0 optuna-2.10.0 pbr-5.8.0 pyperclip-1.8.2 stevedore-3.5.0\n"
          ]
        }
      ],
      "source": [
        "pip install optuna"
      ]
    },
    {
      "cell_type": "code",
      "execution_count": null,
      "metadata": {
        "id": "7XaxtTWMpIpP"
      },
      "outputs": [],
      "source": [
        "import optuna\n",
        "import sklearn.svm\n",
        "def objective(trial):\n",
        "\n",
        "    classifier = trial.suggest_categorical('classifier', ['RandomForest'])\n",
        "    \n",
        "    if classifier == 'RandomForest':\n",
        "        criterion = trial.suggest_categorical('criterion',['entropy', 'gini'])\n",
        "        n_estimators = trial.suggest_int('n_estimators', 200, 2000,10)\n",
        "        max_depth = int(trial.suggest_float('max_depth', 10, 100, log=True))\n",
        "        bootstrap = trial.suggest_categorical('bootstrap',['True','False'])\n",
        "        max_features = trial.suggest_categorical('max_features', ['auto', 'sqrt','log2'])\n",
        "        max_leaf_nodes = trial.suggest_int('max_leaf_nodes', 1, 10000)  \n",
        "    \n",
        "\n",
        "\n",
        "        clf = sklearn.ensemble.RandomForestClassifier(criterion = criterion,bootstrap = bootstrap,max_features = max_features, \n",
        "                                 max_leaf_nodes = max_leaf_nodes, max_depth = max_depth,n_estimators = n_estimators)\n",
        "  \n",
        "\n",
        "    return sklearn.model_selection.cross_val_score(\n",
        "        clf,X_train,y_train, n_jobs=-1, cv=7).mean()"
      ]
    },
    {
      "cell_type": "code",
      "execution_count": null,
      "metadata": {
        "colab": {
          "base_uri": "https://localhost:8080/"
        },
        "id": "NyPVia90U4Mt",
        "outputId": "05c5a179-9a1c-4753-f042-76af588eface"
      },
      "outputs": [
        {
          "output_type": "stream",
          "name": "stderr",
          "text": [
            "\u001b[32m[I 2021-12-09 14:55:31,217]\u001b[0m A new study created in memory with name: no-name-a7696afc-3b7b-4ffc-af5a-2b0f0a5fc742\u001b[0m\n",
            "\u001b[32m[I 2021-12-09 14:55:47,390]\u001b[0m Trial 0 finished with value: 0.9074446680080482 and parameters: {'classifier': 'RandomForest', 'criterion': 'entropy', 'n_estimators': 430, 'max_depth': 15.712646322926524, 'bootstrap': 'True', 'max_features': 'auto', 'max_leaf_nodes': 206}. Best is trial 0 with value: 0.9074446680080482.\u001b[0m\n",
            "\u001b[32m[I 2021-12-09 14:55:54,626]\u001b[0m Trial 1 finished with value: 0.9128521126760563 and parameters: {'classifier': 'RandomForest', 'criterion': 'gini', 'n_estimators': 200, 'max_depth': 48.28059442620199, 'bootstrap': 'False', 'max_features': 'log2', 'max_leaf_nodes': 782}. Best is trial 1 with value: 0.9128521126760563.\u001b[0m\n",
            "\u001b[32m[I 2021-12-09 14:56:12,534]\u001b[0m Trial 2 finished with value: 0.9133551307847083 and parameters: {'classifier': 'RandomForest', 'criterion': 'entropy', 'n_estimators': 420, 'max_depth': 30.74646810025177, 'bootstrap': 'True', 'max_features': 'auto', 'max_leaf_nodes': 4519}. Best is trial 2 with value: 0.9133551307847083.\u001b[0m\n",
            "\u001b[32m[I 2021-12-09 14:57:10,070]\u001b[0m Trial 3 finished with value: 0.9109657947686116 and parameters: {'classifier': 'RandomForest', 'criterion': 'gini', 'n_estimators': 1620, 'max_depth': 15.684011694232654, 'bootstrap': 'False', 'max_features': 'auto', 'max_leaf_nodes': 6140}. Best is trial 2 with value: 0.9133551307847083.\u001b[0m\n",
            "\u001b[32m[I 2021-12-09 14:58:06,095]\u001b[0m Trial 4 finished with value: 0.9133551307847083 and parameters: {'classifier': 'RandomForest', 'criterion': 'gini', 'n_estimators': 1420, 'max_depth': 86.26189333428412, 'bootstrap': 'True', 'max_features': 'auto', 'max_leaf_nodes': 4184}. Best is trial 2 with value: 0.9133551307847083.\u001b[0m\n",
            "\u001b[32m[I 2021-12-09 14:59:36,566]\u001b[0m Trial 5 finished with value: 0.9151156941649902 and parameters: {'classifier': 'RandomForest', 'criterion': 'entropy', 'n_estimators': 1900, 'max_depth': 30.12400843385515, 'bootstrap': 'True', 'max_features': 'log2', 'max_leaf_nodes': 4092}. Best is trial 5 with value: 0.9151156941649902.\u001b[0m\n",
            "\u001b[32m[I 2021-12-09 15:00:01,761]\u001b[0m Trial 6 finished with value: 0.9152414486921528 and parameters: {'classifier': 'RandomForest', 'criterion': 'entropy', 'n_estimators': 550, 'max_depth': 19.415937660532553, 'bootstrap': 'True', 'max_features': 'auto', 'max_leaf_nodes': 7639}. Best is trial 6 with value: 0.9152414486921528.\u001b[0m\n",
            "\u001b[32m[I 2021-12-09 15:01:38,886]\u001b[0m Trial 7 finished with value: 0.915367203219316 and parameters: {'classifier': 'RandomForest', 'criterion': 'entropy', 'n_estimators': 1960, 'max_depth': 27.290566511435692, 'bootstrap': 'True', 'max_features': 'sqrt', 'max_leaf_nodes': 4065}. Best is trial 7 with value: 0.915367203219316.\u001b[0m\n",
            "\u001b[32m[I 2021-12-09 15:02:49,775]\u001b[0m Trial 8 finished with value: 0.9149899396378272 and parameters: {'classifier': 'RandomForest', 'criterion': 'entropy', 'n_estimators': 1500, 'max_depth': 16.65217908815066, 'bootstrap': 'True', 'max_features': 'auto', 'max_leaf_nodes': 932}. Best is trial 7 with value: 0.915367203219316.\u001b[0m\n",
            "\u001b[32m[I 2021-12-09 15:03:22,054]\u001b[0m Trial 9 finished with value: 0.9129778672032193 and parameters: {'classifier': 'RandomForest', 'criterion': 'gini', 'n_estimators': 820, 'max_depth': 17.65419621909883, 'bootstrap': 'False', 'max_features': 'log2', 'max_leaf_nodes': 4270}. Best is trial 7 with value: 0.915367203219316.\u001b[0m\n",
            "\u001b[32m[I 2021-12-09 15:04:11,094]\u001b[0m Trial 10 finished with value: 0.914864185110664 and parameters: {'classifier': 'RandomForest', 'criterion': 'entropy', 'n_estimators': 1110, 'max_depth': 52.886705881044115, 'bootstrap': 'True', 'max_features': 'sqrt', 'max_leaf_nodes': 9541}. Best is trial 7 with value: 0.915367203219316.\u001b[0m\n",
            "\u001b[32m[I 2021-12-09 15:04:41,617]\u001b[0m Trial 11 finished with value: 0.9041750503018109 and parameters: {'classifier': 'RandomForest', 'criterion': 'entropy', 'n_estimators': 900, 'max_depth': 10.043837202286502, 'bootstrap': 'True', 'max_features': 'sqrt', 'max_leaf_nodes': 7207}. Best is trial 7 with value: 0.915367203219316.\u001b[0m\n",
            "\u001b[32m[I 2021-12-09 15:06:07,244]\u001b[0m Trial 12 finished with value: 0.9142354124748492 and parameters: {'classifier': 'RandomForest', 'criterion': 'entropy', 'n_estimators': 1980, 'max_depth': 24.87081775570408, 'bootstrap': 'True', 'max_features': 'sqrt', 'max_leaf_nodes': 8619}. Best is trial 7 with value: 0.915367203219316.\u001b[0m\n",
            "\u001b[32m[I 2021-12-09 15:06:58,172]\u001b[0m Trial 13 finished with value: 0.9147384305835011 and parameters: {'classifier': 'RandomForest', 'criterion': 'entropy', 'n_estimators': 1180, 'max_depth': 46.738878708190576, 'bootstrap': 'True', 'max_features': 'sqrt', 'max_leaf_nodes': 2184}. Best is trial 7 with value: 0.915367203219316.\u001b[0m\n",
            "\u001b[32m[I 2021-12-09 15:07:27,878]\u001b[0m Trial 14 finished with value: 0.913983903420523 and parameters: {'classifier': 'RandomForest', 'criterion': 'entropy', 'n_estimators': 670, 'max_depth': 23.63167823197738, 'bootstrap': 'True', 'max_features': 'sqrt', 'max_leaf_nodes': 6564}. Best is trial 7 with value: 0.915367203219316.\u001b[0m\n",
            "\u001b[32m[I 2021-12-09 15:08:28,799]\u001b[0m Trial 15 finished with value: 0.9045523138832998 and parameters: {'classifier': 'RandomForest', 'criterion': 'entropy', 'n_estimators': 1710, 'max_depth': 10.308791347788066, 'bootstrap': 'False', 'max_features': 'sqrt', 'max_leaf_nodes': 2432}. Best is trial 7 with value: 0.915367203219316.\u001b[0m\n",
            "\u001b[32m[I 2021-12-09 15:09:28,982]\u001b[0m Trial 16 finished with value: 0.9143611670020123 and parameters: {'classifier': 'RandomForest', 'criterion': 'entropy', 'n_estimators': 1330, 'max_depth': 39.16271253615808, 'bootstrap': 'True', 'max_features': 'auto', 'max_leaf_nodes': 7840}. Best is trial 7 with value: 0.915367203219316.\u001b[0m\n",
            "\u001b[32m[I 2021-12-09 15:10:13,282]\u001b[0m Trial 17 finished with value: 0.914738430583501 and parameters: {'classifier': 'RandomForest', 'criterion': 'entropy', 'n_estimators': 890, 'max_depth': 20.648709165455596, 'bootstrap': 'True', 'max_features': 'sqrt', 'max_leaf_nodes': 5573}. Best is trial 7 with value: 0.915367203219316.\u001b[0m\n",
            "\u001b[32m[I 2021-12-09 15:10:36,749]\u001b[0m Trial 18 finished with value: 0.9131036217303823 and parameters: {'classifier': 'RandomForest', 'criterion': 'gini', 'n_estimators': 550, 'max_depth': 72.07206206276724, 'bootstrap': 'False', 'max_features': 'auto', 'max_leaf_nodes': 9799}. Best is trial 7 with value: 0.915367203219316.\u001b[0m\n",
            "\u001b[32m[I 2021-12-09 15:10:45,261]\u001b[0m Trial 19 finished with value: 0.9098340040241448 and parameters: {'classifier': 'RandomForest', 'criterion': 'entropy', 'n_estimators': 200, 'max_depth': 12.397358916175074, 'bootstrap': 'True', 'max_features': 'log2', 'max_leaf_nodes': 2411}. Best is trial 7 with value: 0.915367203219316.\u001b[0m\n",
            "\u001b[32m[I 2021-12-09 15:11:45,404]\u001b[0m Trial 20 finished with value: 0.9147384305835011 and parameters: {'classifier': 'RandomForest', 'criterion': 'entropy', 'n_estimators': 1250, 'max_depth': 39.49584692218475, 'bootstrap': 'True', 'max_features': 'sqrt', 'max_leaf_nodes': 5174}. Best is trial 7 with value: 0.915367203219316.\u001b[0m\n",
            "\u001b[32m[I 2021-12-09 15:13:23,304]\u001b[0m Trial 21 finished with value: 0.9147384305835009 and parameters: {'classifier': 'RandomForest', 'criterion': 'entropy', 'n_estimators': 1990, 'max_depth': 30.473139126717317, 'bootstrap': 'True', 'max_features': 'log2', 'max_leaf_nodes': 3324}. Best is trial 7 with value: 0.915367203219316.\u001b[0m\n",
            "\u001b[32m[I 2021-12-09 15:14:46,015]\u001b[0m Trial 22 finished with value: 0.9152414486921528 and parameters: {'classifier': 'RandomForest', 'criterion': 'entropy', 'n_estimators': 1810, 'max_depth': 26.21075916754596, 'bootstrap': 'True', 'max_features': 'log2', 'max_leaf_nodes': 3352}. Best is trial 7 with value: 0.915367203219316.\u001b[0m\n",
            "\u001b[32m[I 2021-12-09 15:16:02,452]\u001b[0m Trial 23 finished with value: 0.914864185110664 and parameters: {'classifier': 'RandomForest', 'criterion': 'entropy', 'n_estimators': 1780, 'max_depth': 24.007043544738508, 'bootstrap': 'True', 'max_features': 'log2', 'max_leaf_nodes': 3243}. Best is trial 7 with value: 0.915367203219316.\u001b[0m\n",
            "\u001b[32m[I 2021-12-09 15:17:18,598]\u001b[0m Trial 24 finished with value: 0.914361167002012 and parameters: {'classifier': 'RandomForest', 'criterion': 'entropy', 'n_estimators': 1830, 'max_depth': 37.568902869201544, 'bootstrap': 'True', 'max_features': 'log2', 'max_leaf_nodes': 5900}. Best is trial 7 with value: 0.915367203219316.\u001b[0m\n",
            "\u001b[32m[I 2021-12-09 15:18:27,566]\u001b[0m Trial 25 finished with value: 0.9151156941649898 and parameters: {'classifier': 'RandomForest', 'criterion': 'entropy', 'n_estimators': 1640, 'max_depth': 19.591450522343855, 'bootstrap': 'True', 'max_features': 'auto', 'max_leaf_nodes': 6959}. Best is trial 7 with value: 0.915367203219316.\u001b[0m\n",
            "\u001b[32m[I 2021-12-09 15:19:21,660]\u001b[0m Trial 26 finished with value: 0.9117203219315896 and parameters: {'classifier': 'RandomForest', 'criterion': 'gini', 'n_estimators': 1540, 'max_depth': 13.225395646880978, 'bootstrap': 'False', 'max_features': 'log2', 'max_leaf_nodes': 3274}. Best is trial 7 with value: 0.915367203219316.\u001b[0m\n",
            "\u001b[32m[I 2021-12-09 15:20:07,313]\u001b[0m Trial 27 finished with value: 0.914612676056338 and parameters: {'classifier': 'RandomForest', 'criterion': 'entropy', 'n_estimators': 1010, 'max_depth': 26.68705828310996, 'bootstrap': 'True', 'max_features': 'auto', 'max_leaf_nodes': 7982}. Best is trial 7 with value: 0.915367203219316.\u001b[0m\n",
            "\u001b[32m[I 2021-12-09 15:20:38,210]\u001b[0m Trial 28 finished with value: 0.914738430583501 and parameters: {'classifier': 'RandomForest', 'criterion': 'entropy', 'n_estimators': 700, 'max_depth': 20.78084991840523, 'bootstrap': 'True', 'max_features': 'sqrt', 'max_leaf_nodes': 1726}. Best is trial 7 with value: 0.915367203219316.\u001b[0m\n",
            "\u001b[32m[I 2021-12-09 15:20:53,473]\u001b[0m Trial 29 finished with value: 0.9126006036217305 and parameters: {'classifier': 'RandomForest', 'criterion': 'entropy', 'n_estimators': 360, 'max_depth': 14.748677953265886, 'bootstrap': 'True', 'max_features': 'log2', 'max_leaf_nodes': 4842}. Best is trial 7 with value: 0.915367203219316.\u001b[0m\n",
            "\u001b[32m[I 2021-12-09 15:22:12,887]\u001b[0m Trial 30 finished with value: 0.9152414486921528 and parameters: {'classifier': 'RandomForest', 'criterion': 'entropy', 'n_estimators': 1810, 'max_depth': 35.636837553179284, 'bootstrap': 'True', 'max_features': 'auto', 'max_leaf_nodes': 3606}. Best is trial 7 with value: 0.915367203219316.\u001b[0m\n",
            "\u001b[32m[I 2021-12-09 15:23:34,214]\u001b[0m Trial 31 finished with value: 0.9152414486921528 and parameters: {'classifier': 'RandomForest', 'criterion': 'entropy', 'n_estimators': 1860, 'max_depth': 33.86244158144614, 'bootstrap': 'True', 'max_features': 'auto', 'max_leaf_nodes': 3234}. Best is trial 7 with value: 0.915367203219316.\u001b[0m\n",
            "\u001b[32m[I 2021-12-09 15:24:52,341]\u001b[0m Trial 32 finished with value: 0.914235412474849 and parameters: {'classifier': 'RandomForest', 'criterion': 'entropy', 'n_estimators': 1900, 'max_depth': 26.973087341737383, 'bootstrap': 'True', 'max_features': 'auto', 'max_leaf_nodes': 2917}. Best is trial 7 with value: 0.915367203219316.\u001b[0m\n",
            "/usr/local/lib/python3.7/dist-packages/joblib/externals/loky/process_executor.py:705: UserWarning:\n",
            "\n",
            "A worker stopped while some jobs were given to the executor. This can be caused by a too short worker timeout or by a memory leak.\n",
            "\n",
            "\u001b[32m[I 2021-12-09 15:26:03,573]\u001b[0m Trial 33 finished with value: 0.9147384305835011 and parameters: {'classifier': 'RandomForest', 'criterion': 'entropy', 'n_estimators': 1700, 'max_depth': 35.50108609289706, 'bootstrap': 'True', 'max_features': 'auto', 'max_leaf_nodes': 1442}. Best is trial 7 with value: 0.915367203219316.\u001b[0m\n",
            "\u001b[32m[I 2021-12-09 15:27:10,756]\u001b[0m Trial 34 finished with value: 0.9118460764587525 and parameters: {'classifier': 'RandomForest', 'criterion': 'gini', 'n_estimators': 1840, 'max_depth': 43.26228183129524, 'bootstrap': 'False', 'max_features': 'auto', 'max_leaf_nodes': 3766}. Best is trial 7 with value: 0.915367203219316.\u001b[0m\n",
            "\u001b[32m[I 2021-12-09 15:27:54,955]\u001b[0m Trial 35 finished with value: 0.90329476861167 and parameters: {'classifier': 'RandomForest', 'criterion': 'entropy', 'n_estimators': 1370, 'max_depth': 56.0199000395028, 'bootstrap': 'True', 'max_features': 'auto', 'max_leaf_nodes': 127}. Best is trial 7 with value: 0.915367203219316.\u001b[0m\n",
            "\u001b[32m[I 2021-12-09 15:29:16,447]\u001b[0m Trial 36 finished with value: 0.91511569416499 and parameters: {'classifier': 'RandomForest', 'criterion': 'entropy', 'n_estimators': 2000, 'max_depth': 28.817806530491946, 'bootstrap': 'True', 'max_features': 'auto', 'max_leaf_nodes': 4725}. Best is trial 7 with value: 0.915367203219316.\u001b[0m\n",
            "\u001b[32m[I 2021-12-09 15:30:09,242]\u001b[0m Trial 37 finished with value: 0.9126006036217306 and parameters: {'classifier': 'RandomForest', 'criterion': 'gini', 'n_estimators': 1540, 'max_depth': 32.81358032180809, 'bootstrap': 'True', 'max_features': 'log2', 'max_leaf_nodes': 3831}. Best is trial 7 with value: 0.915367203219316.\u001b[0m\n",
            "\u001b[32m[I 2021-12-09 15:30:25,184]\u001b[0m Trial 38 finished with value: 0.9138581488933601 and parameters: {'classifier': 'RandomForest', 'criterion': 'entropy', 'n_estimators': 400, 'max_depth': 22.349564084575846, 'bootstrap': 'False', 'max_features': 'auto', 'max_leaf_nodes': 5228}. Best is trial 7 with value: 0.915367203219316.\u001b[0m\n",
            "\u001b[32m[I 2021-12-09 15:31:35,689]\u001b[0m Trial 39 finished with value: 0.914864185110664 and parameters: {'classifier': 'RandomForest', 'criterion': 'entropy', 'n_estimators': 1740, 'max_depth': 63.83938626727859, 'bootstrap': 'True', 'max_features': 'auto', 'max_leaf_nodes': 2817}. Best is trial 7 with value: 0.915367203219316.\u001b[0m\n",
            "\u001b[32m[I 2021-12-09 15:32:28,239]\u001b[0m Trial 40 finished with value: 0.9115945674044266 and parameters: {'classifier': 'RandomForest', 'criterion': 'gini', 'n_estimators': 1470, 'max_depth': 18.1891070511932, 'bootstrap': 'True', 'max_features': 'auto', 'max_leaf_nodes': 4169}. Best is trial 7 with value: 0.915367203219316.\u001b[0m\n",
            "\u001b[32m[I 2021-12-09 15:33:45,081]\u001b[0m Trial 41 finished with value: 0.9153672032193159 and parameters: {'classifier': 'RandomForest', 'criterion': 'entropy', 'n_estimators': 1860, 'max_depth': 34.49838180252272, 'bootstrap': 'True', 'max_features': 'auto', 'max_leaf_nodes': 3682}. Best is trial 7 with value: 0.915367203219316.\u001b[0m\n",
            "\u001b[32m[I 2021-12-09 15:35:02,939]\u001b[0m Trial 42 finished with value: 0.9141096579476862 and parameters: {'classifier': 'RandomForest', 'criterion': 'entropy', 'n_estimators': 1900, 'max_depth': 32.663571289097405, 'bootstrap': 'True', 'max_features': 'auto', 'max_leaf_nodes': 3878}. Best is trial 7 with value: 0.915367203219316.\u001b[0m\n",
            "\u001b[32m[I 2021-12-09 15:36:10,404]\u001b[0m Trial 43 finished with value: 0.9149899396378268 and parameters: {'classifier': 'RandomForest', 'criterion': 'entropy', 'n_estimators': 1630, 'max_depth': 43.79354482267336, 'bootstrap': 'True', 'max_features': 'auto', 'max_leaf_nodes': 4553}. Best is trial 7 with value: 0.915367203219316.\u001b[0m\n",
            "\u001b[32m[I 2021-12-09 15:37:27,553]\u001b[0m Trial 44 finished with value: 0.9141096579476862 and parameters: {'classifier': 'RandomForest', 'criterion': 'entropy', 'n_estimators': 1910, 'max_depth': 27.456674412532205, 'bootstrap': 'True', 'max_features': 'sqrt', 'max_leaf_nodes': 700}. Best is trial 7 with value: 0.915367203219316.\u001b[0m\n",
            "\u001b[32m[I 2021-12-09 15:38:41,452]\u001b[0m Trial 45 finished with value: 0.9147384305835011 and parameters: {'classifier': 'RandomForest', 'criterion': 'entropy', 'n_estimators': 1810, 'max_depth': 35.430242295617845, 'bootstrap': 'True', 'max_features': 'auto', 'max_leaf_nodes': 1743}. Best is trial 7 with value: 0.915367203219316.\u001b[0m\n",
            "\u001b[32m[I 2021-12-09 15:39:50,708]\u001b[0m Trial 46 finished with value: 0.9142354124748492 and parameters: {'classifier': 'RandomForest', 'criterion': 'entropy', 'n_estimators': 1630, 'max_depth': 97.95807609269299, 'bootstrap': 'True', 'max_features': 'log2', 'max_leaf_nodes': 9239}. Best is trial 7 with value: 0.915367203219316.\u001b[0m\n",
            "\u001b[32m[I 2021-12-09 15:41:09,762]\u001b[0m Trial 47 finished with value: 0.914486921529175 and parameters: {'classifier': 'RandomForest', 'criterion': 'entropy', 'n_estimators': 1930, 'max_depth': 54.54986956601193, 'bootstrap': 'True', 'max_features': 'auto', 'max_leaf_nodes': 5661}. Best is trial 7 with value: 0.915367203219316.\u001b[0m\n",
            "\u001b[32m[I 2021-12-09 15:42:19,665]\u001b[0m Trial 48 finished with value: 0.9157444668008047 and parameters: {'classifier': 'RandomForest', 'criterion': 'entropy', 'n_estimators': 1710, 'max_depth': 22.023906356111386, 'bootstrap': 'False', 'max_features': 'sqrt', 'max_leaf_nodes': 4310}. Best is trial 48 with value: 0.9157444668008047.\u001b[0m\n",
            "\u001b[32m[I 2021-12-09 15:43:29,695]\u001b[0m Trial 49 finished with value: 0.9149899396378268 and parameters: {'classifier': 'RandomForest', 'criterion': 'entropy', 'n_estimators': 1740, 'max_depth': 22.961579917702274, 'bootstrap': 'False', 'max_features': 'sqrt', 'max_leaf_nodes': 3648}. Best is trial 48 with value: 0.9157444668008047.\u001b[0m\n",
            "\u001b[32m[I 2021-12-09 15:44:39,459]\u001b[0m Trial 50 finished with value: 0.914864185110664 and parameters: {'classifier': 'RandomForest', 'criterion': 'entropy', 'n_estimators': 1690, 'max_depth': 26.164233517777358, 'bootstrap': 'False', 'max_features': 'sqrt', 'max_leaf_nodes': 4331}. Best is trial 48 with value: 0.9157444668008047.\u001b[0m\n",
            "\u001b[32m[I 2021-12-09 15:45:58,998]\u001b[0m Trial 51 finished with value: 0.914864185110664 and parameters: {'classifier': 'RandomForest', 'criterion': 'entropy', 'n_estimators': 1890, 'max_depth': 32.01461804135659, 'bootstrap': 'False', 'max_features': 'sqrt', 'max_leaf_nodes': 2834}. Best is trial 48 with value: 0.9157444668008047.\u001b[0m\n",
            "\u001b[32m[I 2021-12-09 15:47:21,557]\u001b[0m Trial 52 finished with value: 0.9129778672032194 and parameters: {'classifier': 'RandomForest', 'criterion': 'entropy', 'n_estimators': 2000, 'max_depth': 15.594342153285673, 'bootstrap': 'False', 'max_features': 'auto', 'max_leaf_nodes': 5302}. Best is trial 48 with value: 0.9157444668008047.\u001b[0m\n",
            "\u001b[32m[I 2021-12-09 15:48:35,632]\u001b[0m Trial 53 finished with value: 0.914989939637827 and parameters: {'classifier': 'RandomForest', 'criterion': 'entropy', 'n_estimators': 1790, 'max_depth': 18.505585634590382, 'bootstrap': 'False', 'max_features': 'sqrt', 'max_leaf_nodes': 6549}. Best is trial 48 with value: 0.9157444668008047.\u001b[0m\n",
            "\u001b[32m[I 2021-12-09 15:49:44,581]\u001b[0m Trial 54 finished with value: 0.9159959758551308 and parameters: {'classifier': 'RandomForest', 'criterion': 'entropy', 'n_estimators': 1570, 'max_depth': 30.235252638494895, 'bootstrap': 'True', 'max_features': 'sqrt', 'max_leaf_nodes': 3412}. Best is trial 54 with value: 0.9159959758551308.\u001b[0m\n",
            "\u001b[32m[I 2021-12-09 15:50:50,720]\u001b[0m Trial 55 finished with value: 0.9137323943661971 and parameters: {'classifier': 'RandomForest', 'criterion': 'entropy', 'n_estimators': 1540, 'max_depth': 29.025198395534318, 'bootstrap': 'True', 'max_features': 'sqrt', 'max_leaf_nodes': 2439}. Best is trial 54 with value: 0.9159959758551308.\u001b[0m\n",
            "\u001b[32m[I 2021-12-09 15:51:58,263]\u001b[0m Trial 56 finished with value: 0.9127263581488935 and parameters: {'classifier': 'RandomForest', 'criterion': 'gini', 'n_estimators': 1860, 'max_depth': 41.43212655862233, 'bootstrap': 'False', 'max_features': 'sqrt', 'max_leaf_nodes': 4523}. Best is trial 54 with value: 0.9159959758551308.\u001b[0m\n",
            "\u001b[32m[I 2021-12-09 15:52:58,788]\u001b[0m Trial 57 finished with value: 0.915618712273642 and parameters: {'classifier': 'RandomForest', 'criterion': 'entropy', 'n_estimators': 1430, 'max_depth': 24.248691537414803, 'bootstrap': 'True', 'max_features': 'sqrt', 'max_leaf_nodes': 3463}. Best is trial 54 with value: 0.9159959758551308.\u001b[0m\n",
            "\u001b[32m[I 2021-12-09 15:53:58,453]\u001b[0m Trial 58 finished with value: 0.9142354124748492 and parameters: {'classifier': 'RandomForest', 'criterion': 'entropy', 'n_estimators': 1430, 'max_depth': 22.088399144806893, 'bootstrap': 'True', 'max_features': 'sqrt', 'max_leaf_nodes': 2148}. Best is trial 54 with value: 0.9159959758551308.\u001b[0m\n",
            "\u001b[32m[I 2021-12-09 15:54:54,845]\u001b[0m Trial 59 finished with value: 0.9157444668008049 and parameters: {'classifier': 'RandomForest', 'criterion': 'entropy', 'n_estimators': 1320, 'max_depth': 49.03259105149543, 'bootstrap': 'True', 'max_features': 'sqrt', 'max_leaf_nodes': 4065}. Best is trial 54 with value: 0.9159959758551308.\u001b[0m\n",
            "\u001b[32m[I 2021-12-09 15:55:47,120]\u001b[0m Trial 60 finished with value: 0.914864185110664 and parameters: {'classifier': 'RandomForest', 'criterion': 'entropy', 'n_estimators': 1240, 'max_depth': 24.477367917308758, 'bootstrap': 'False', 'max_features': 'sqrt', 'max_leaf_nodes': 4025}. Best is trial 54 with value: 0.9159959758551308.\u001b[0m\n",
            "\u001b[32m[I 2021-12-09 15:56:43,547]\u001b[0m Trial 61 finished with value: 0.9149899396378268 and parameters: {'classifier': 'RandomForest', 'criterion': 'entropy', 'n_estimators': 1320, 'max_depth': 45.628651985789745, 'bootstrap': 'True', 'max_features': 'sqrt', 'max_leaf_nodes': 4338}. Best is trial 54 with value: 0.9159959758551308.\u001b[0m\n",
            "\u001b[32m[I 2021-12-09 15:57:34,539]\u001b[0m Trial 62 finished with value: 0.914864185110664 and parameters: {'classifier': 'RandomForest', 'criterion': 'entropy', 'n_estimators': 1160, 'max_depth': 37.36903311928894, 'bootstrap': 'True', 'max_features': 'sqrt', 'max_leaf_nodes': 3544}. Best is trial 54 with value: 0.9159959758551308.\u001b[0m\n",
            "\u001b[32m[I 2021-12-09 15:58:40,953]\u001b[0m Trial 63 finished with value: 0.9141096579476861 and parameters: {'classifier': 'RandomForest', 'criterion': 'entropy', 'n_estimators': 1570, 'max_depth': 30.97764667078313, 'bootstrap': 'True', 'max_features': 'sqrt', 'max_leaf_nodes': 4996}. Best is trial 54 with value: 0.9159959758551308.\u001b[0m\n",
            "\u001b[32m[I 2021-12-09 15:59:45,249]\u001b[0m Trial 64 finished with value: 0.9154929577464789 and parameters: {'classifier': 'RandomForest', 'criterion': 'entropy', 'n_estimators': 1470, 'max_depth': 59.13192449602432, 'bootstrap': 'True', 'max_features': 'sqrt', 'max_leaf_nodes': 2925}. Best is trial 54 with value: 0.9159959758551308.\u001b[0m\n",
            "\u001b[32m[I 2021-12-09 16:00:49,114]\u001b[0m Trial 65 finished with value: 0.9149899396378268 and parameters: {'classifier': 'RandomForest', 'criterion': 'entropy', 'n_estimators': 1460, 'max_depth': 50.392040087615314, 'bootstrap': 'True', 'max_features': 'sqrt', 'max_leaf_nodes': 2724}. Best is trial 54 with value: 0.9159959758551308.\u001b[0m\n",
            "\u001b[32m[I 2021-12-09 16:01:45,184]\u001b[0m Trial 66 finished with value: 0.9154929577464788 and parameters: {'classifier': 'RandomForest', 'criterion': 'entropy', 'n_estimators': 1290, 'max_depth': 69.2521370511531, 'bootstrap': 'True', 'max_features': 'sqrt', 'max_leaf_nodes': 3005}. Best is trial 54 with value: 0.9159959758551308.\u001b[0m\n",
            "\u001b[32m[I 2021-12-09 16:02:45,914]\u001b[0m Trial 67 finished with value: 0.9137323943661972 and parameters: {'classifier': 'RandomForest', 'criterion': 'entropy', 'n_estimators': 1380, 'max_depth': 82.49662015704257, 'bootstrap': 'True', 'max_features': 'sqrt', 'max_leaf_nodes': 3090}. Best is trial 54 with value: 0.9159959758551308.\u001b[0m\n",
            "\u001b[32m[I 2021-12-09 16:03:33,279]\u001b[0m Trial 68 finished with value: 0.914864185110664 and parameters: {'classifier': 'RandomForest', 'criterion': 'entropy', 'n_estimators': 1070, 'max_depth': 60.73273855867371, 'bootstrap': 'True', 'max_features': 'sqrt', 'max_leaf_nodes': 2062}. Best is trial 54 with value: 0.9159959758551308.\u001b[0m\n",
            "\u001b[32m[I 2021-12-09 16:04:22,528]\u001b[0m Trial 69 finished with value: 0.9134808853118711 and parameters: {'classifier': 'RandomForest', 'criterion': 'gini', 'n_estimators': 1280, 'max_depth': 71.6580505250542, 'bootstrap': 'True', 'max_features': 'sqrt', 'max_leaf_nodes': 2533}. Best is trial 54 with value: 0.9159959758551308.\u001b[0m\n",
            "\u001b[32m[I 2021-12-09 16:05:15,818]\u001b[0m Trial 70 finished with value: 0.914612676056338 and parameters: {'classifier': 'RandomForest', 'criterion': 'entropy', 'n_estimators': 1180, 'max_depth': 69.48218190404491, 'bootstrap': 'True', 'max_features': 'sqrt', 'max_leaf_nodes': 3353}. Best is trial 54 with value: 0.9159959758551308.\u001b[0m\n",
            "\u001b[32m[I 2021-12-09 16:06:19,517]\u001b[0m Trial 71 finished with value: 0.914738430583501 and parameters: {'classifier': 'RandomForest', 'criterion': 'entropy', 'n_estimators': 1400, 'max_depth': 63.7363869225232, 'bootstrap': 'True', 'max_features': 'sqrt', 'max_leaf_nodes': 4186}. Best is trial 54 with value: 0.9159959758551308.\u001b[0m\n",
            "\u001b[32m[I 2021-12-09 16:07:17,493]\u001b[0m Trial 72 finished with value: 0.914486921529175 and parameters: {'classifier': 'RandomForest', 'criterion': 'entropy', 'n_estimators': 1300, 'max_depth': 84.53525506324345, 'bootstrap': 'True', 'max_features': 'sqrt', 'max_leaf_nodes': 3051}. Best is trial 54 with value: 0.9159959758551308.\u001b[0m\n",
            "\u001b[32m[I 2021-12-09 16:08:22,937]\u001b[0m Trial 73 finished with value: 0.9154929577464789 and parameters: {'classifier': 'RandomForest', 'criterion': 'entropy', 'n_estimators': 1480, 'max_depth': 76.6622615680198, 'bootstrap': 'True', 'max_features': 'sqrt', 'max_leaf_nodes': 3511}. Best is trial 54 with value: 0.9159959758551308.\u001b[0m\n",
            "\u001b[32m[I 2021-12-09 16:09:28,184]\u001b[0m Trial 74 finished with value: 0.9141096579476863 and parameters: {'classifier': 'RandomForest', 'criterion': 'entropy', 'n_estimators': 1490, 'max_depth': 80.94780283219416, 'bootstrap': 'True', 'max_features': 'sqrt', 'max_leaf_nodes': 4711}. Best is trial 54 with value: 0.9159959758551308.\u001b[0m\n",
            "\u001b[32m[I 2021-12-09 16:10:37,700]\u001b[0m Trial 75 finished with value: 0.9144869215291751 and parameters: {'classifier': 'RandomForest', 'criterion': 'entropy', 'n_estimators': 1590, 'max_depth': 58.60700133678172, 'bootstrap': 'True', 'max_features': 'sqrt', 'max_leaf_nodes': 3430}. Best is trial 54 with value: 0.9159959758551308.\u001b[0m\n",
            "\u001b[32m[I 2021-12-09 16:11:31,176]\u001b[0m Trial 76 finished with value: 0.9139839034205232 and parameters: {'classifier': 'RandomForest', 'criterion': 'entropy', 'n_estimators': 1230, 'max_depth': 90.08772837128856, 'bootstrap': 'True', 'max_features': 'sqrt', 'max_leaf_nodes': 2755}. Best is trial 54 with value: 0.9159959758551308.\u001b[0m\n",
            "\u001b[32m[I 2021-12-09 16:12:30,657]\u001b[0m Trial 77 finished with value: 0.914864185110664 and parameters: {'classifier': 'RandomForest', 'criterion': 'entropy', 'n_estimators': 1360, 'max_depth': 76.16874550277524, 'bootstrap': 'True', 'max_features': 'sqrt', 'max_leaf_nodes': 3924}. Best is trial 54 with value: 0.9159959758551308.\u001b[0m\n",
            "\u001b[32m[I 2021-12-09 16:13:37,969]\u001b[0m Trial 78 finished with value: 0.914361167002012 and parameters: {'classifier': 'RandomForest', 'criterion': 'entropy', 'n_estimators': 1530, 'max_depth': 66.9239233567057, 'bootstrap': 'False', 'max_features': 'sqrt', 'max_leaf_nodes': 4055}. Best is trial 54 with value: 0.9159959758551308.\u001b[0m\n",
            "\u001b[32m[I 2021-12-09 16:14:42,371]\u001b[0m Trial 79 finished with value: 0.914361167002012 and parameters: {'classifier': 'RandomForest', 'criterion': 'entropy', 'n_estimators': 1440, 'max_depth': 51.34797791647383, 'bootstrap': 'True', 'max_features': 'sqrt', 'max_leaf_nodes': 3072}. Best is trial 54 with value: 0.9159959758551308.\u001b[0m\n",
            "\u001b[32m[I 2021-12-09 16:15:48,220]\u001b[0m Trial 80 finished with value: 0.9120975855130784 and parameters: {'classifier': 'RandomForest', 'criterion': 'gini', 'n_estimators': 1670, 'max_depth': 76.58112067447178, 'bootstrap': 'True', 'max_features': 'sqrt', 'max_leaf_nodes': 1668}. Best is trial 54 with value: 0.9159959758551308.\u001b[0m\n",
            "\u001b[32m[I 2021-12-09 16:17:09,584]\u001b[0m Trial 81 finished with value: 0.9136066398390342 and parameters: {'classifier': 'RandomForest', 'criterion': 'entropy', 'n_estimators': 1750, 'max_depth': 20.28141459674756, 'bootstrap': 'True', 'max_features': 'sqrt', 'max_leaf_nodes': 3785}. Best is trial 54 with value: 0.9159959758551308.\u001b[0m\n",
            "\u001b[32m[I 2021-12-09 16:18:18,619]\u001b[0m Trial 82 finished with value: 0.914738430583501 and parameters: {'classifier': 'RandomForest', 'criterion': 'entropy', 'n_estimators': 1480, 'max_depth': 28.545592575532748, 'bootstrap': 'True', 'max_features': 'sqrt', 'max_leaf_nodes': 3610}. Best is trial 54 with value: 0.9159959758551308.\u001b[0m\n",
            "\u001b[32m[I 2021-12-09 16:19:33,983]\u001b[0m Trial 83 finished with value: 0.9147384305835011 and parameters: {'classifier': 'RandomForest', 'criterion': 'entropy', 'n_estimators': 1600, 'max_depth': 25.519295928866608, 'bootstrap': 'True', 'max_features': 'sqrt', 'max_leaf_nodes': 2562}. Best is trial 54 with value: 0.9159959758551308.\u001b[0m\n",
            "\u001b[32m[I 2021-12-09 16:20:36,196]\u001b[0m Trial 84 finished with value: 0.9152414486921528 and parameters: {'classifier': 'RandomForest', 'criterion': 'entropy', 'n_estimators': 1330, 'max_depth': 21.73661810882141, 'bootstrap': 'True', 'max_features': 'sqrt', 'max_leaf_nodes': 4402}. Best is trial 54 with value: 0.9159959758551308.\u001b[0m\n",
            "\u001b[32m[I 2021-12-09 16:21:42,493]\u001b[0m Trial 85 finished with value: 0.9142354124748492 and parameters: {'classifier': 'RandomForest', 'criterion': 'entropy', 'n_estimators': 1400, 'max_depth': 90.51128832548189, 'bootstrap': 'True', 'max_features': 'sqrt', 'max_leaf_nodes': 3486}. Best is trial 54 with value: 0.9159959758551308.\u001b[0m\n",
            "\u001b[32m[I 2021-12-09 16:22:56,009]\u001b[0m Trial 86 finished with value: 0.915618712273642 and parameters: {'classifier': 'RandomForest', 'criterion': 'entropy', 'n_estimators': 1510, 'max_depth': 24.172378766736923, 'bootstrap': 'True', 'max_features': 'sqrt', 'max_leaf_nodes': 3175}. Best is trial 54 with value: 0.9159959758551308.\u001b[0m\n",
            "\u001b[32m[I 2021-12-09 16:24:07,494]\u001b[0m Trial 87 finished with value: 0.9154929577464789 and parameters: {'classifier': 'RandomForest', 'criterion': 'entropy', 'n_estimators': 1500, 'max_depth': 23.36020672508135, 'bootstrap': 'True', 'max_features': 'sqrt', 'max_leaf_nodes': 3142}. Best is trial 54 with value: 0.9159959758551308.\u001b[0m\n",
            "\u001b[32m[I 2021-12-09 16:25:19,208]\u001b[0m Trial 88 finished with value: 0.9139839034205232 and parameters: {'classifier': 'RandomForest', 'criterion': 'entropy', 'n_estimators': 1570, 'max_depth': 23.27152198825312, 'bootstrap': 'True', 'max_features': 'sqrt', 'max_leaf_nodes': 2032}. Best is trial 54 with value: 0.9159959758551308.\u001b[0m\n",
            "\u001b[32m[I 2021-12-09 16:26:27,663]\u001b[0m Trial 89 finished with value: 0.91385814889336 and parameters: {'classifier': 'RandomForest', 'criterion': 'entropy', 'n_estimators': 1510, 'max_depth': 17.210482196253974, 'bootstrap': 'True', 'max_features': 'sqrt', 'max_leaf_nodes': 3169}. Best is trial 54 with value: 0.9159959758551308.\u001b[0m\n",
            "\u001b[32m[I 2021-12-09 16:27:42,703]\u001b[0m Trial 90 finished with value: 0.9147384305835011 and parameters: {'classifier': 'RandomForest', 'criterion': 'entropy', 'n_estimators': 1670, 'max_depth': 19.685662246408523, 'bootstrap': 'False', 'max_features': 'sqrt', 'max_leaf_nodes': 2307}. Best is trial 54 with value: 0.9159959758551308.\u001b[0m\n",
            "\u001b[32m[I 2021-12-09 16:28:45,452]\u001b[0m Trial 91 finished with value: 0.9159959758551307 and parameters: {'classifier': 'RandomForest', 'criterion': 'entropy', 'n_estimators': 1440, 'max_depth': 24.137695181709176, 'bootstrap': 'True', 'max_features': 'sqrt', 'max_leaf_nodes': 2929}. Best is trial 54 with value: 0.9159959758551308.\u001b[0m\n",
            "\u001b[32m[I 2021-12-09 16:29:46,802]\u001b[0m Trial 92 finished with value: 0.915367203219316 and parameters: {'classifier': 'RandomForest', 'criterion': 'entropy', 'n_estimators': 1430, 'max_depth': 21.10928048821485, 'bootstrap': 'True', 'max_features': 'sqrt', 'max_leaf_nodes': 2876}. Best is trial 54 with value: 0.9159959758551308.\u001b[0m\n",
            "\u001b[32m[I 2021-12-09 16:30:45,780]\u001b[0m Trial 93 finished with value: 0.9144869215291751 and parameters: {'classifier': 'RandomForest', 'criterion': 'entropy', 'n_estimators': 1350, 'max_depth': 24.249560650483293, 'bootstrap': 'True', 'max_features': 'sqrt', 'max_leaf_nodes': 2597}. Best is trial 54 with value: 0.9159959758551308.\u001b[0m\n",
            "\u001b[32m[I 2021-12-09 16:31:40,526]\u001b[0m Trial 94 finished with value: 0.9144869215291751 and parameters: {'classifier': 'RandomForest', 'criterion': 'entropy', 'n_estimators': 1270, 'max_depth': 18.772092572372102, 'bootstrap': 'True', 'max_features': 'sqrt', 'max_leaf_nodes': 3273}. Best is trial 54 with value: 0.9159959758551308.\u001b[0m\n",
            "\u001b[32m[I 2021-12-09 16:32:45,817]\u001b[0m Trial 95 finished with value: 0.9154929577464788 and parameters: {'classifier': 'RandomForest', 'criterion': 'entropy', 'n_estimators': 1510, 'max_depth': 29.8083759675645, 'bootstrap': 'True', 'max_features': 'sqrt', 'max_leaf_nodes': 2899}. Best is trial 54 with value: 0.9159959758551308.\u001b[0m\n",
            "\u001b[32m[I 2021-12-09 16:33:48,231]\u001b[0m Trial 96 finished with value: 0.9147384305835011 and parameters: {'classifier': 'RandomForest', 'criterion': 'entropy', 'n_estimators': 1470, 'max_depth': 27.32319160055093, 'bootstrap': 'True', 'max_features': 'sqrt', 'max_leaf_nodes': 3900}. Best is trial 54 with value: 0.9159959758551308.\u001b[0m\n",
            "\u001b[32m[I 2021-12-09 16:34:54,235]\u001b[0m Trial 97 finished with value: 0.9151156941649898 and parameters: {'classifier': 'RandomForest', 'criterion': 'entropy', 'n_estimators': 1560, 'max_depth': 25.446513190564712, 'bootstrap': 'True', 'max_features': 'sqrt', 'max_leaf_nodes': 2340}. Best is trial 54 with value: 0.9159959758551308.\u001b[0m\n",
            "\u001b[32m[I 2021-12-09 16:35:46,519]\u001b[0m Trial 98 finished with value: 0.914486921529175 and parameters: {'classifier': 'RandomForest', 'criterion': 'entropy', 'n_estimators': 1210, 'max_depth': 23.14878213088632, 'bootstrap': 'False', 'max_features': 'sqrt', 'max_leaf_nodes': 3501}. Best is trial 54 with value: 0.9159959758551308.\u001b[0m\n",
            "/usr/local/lib/python3.7/dist-packages/joblib/externals/loky/process_executor.py:705: UserWarning:\n",
            "\n",
            "A worker stopped while some jobs were given to the executor. This can be caused by a too short worker timeout or by a memory leak.\n",
            "\n",
            "\u001b[32m[I 2021-12-09 16:36:48,088]\u001b[0m Trial 99 finished with value: 0.9133551307847082 and parameters: {'classifier': 'RandomForest', 'criterion': 'gini', 'n_estimators': 1640, 'max_depth': 29.385003456429022, 'bootstrap': 'True', 'max_features': 'sqrt', 'max_leaf_nodes': 1265}. Best is trial 54 with value: 0.9159959758551308.\u001b[0m\n"
          ]
        },
        {
          "output_type": "stream",
          "name": "stdout",
          "text": [
            "Accuracy: 0.9159959758551308\n",
            "Best hyperparameters: {'classifier': 'RandomForest', 'criterion': 'entropy', 'n_estimators': 1570, 'max_depth': 30.235252638494895, 'bootstrap': 'True', 'max_features': 'sqrt', 'max_leaf_nodes': 3412}\n"
          ]
        }
      ],
      "source": [
        "study = optuna.create_study(direction='maximize')\n",
        "study.optimize(objective, n_trials=100)\n",
        "\n",
        "trial = study.best_trial\n",
        "\n",
        "print('Accuracy: {}'.format(trial.value))\n",
        "print(\"Best hyperparameters: {}\".format(trial.params))"
      ]
    },
    {
      "cell_type": "code",
      "execution_count": null,
      "metadata": {
        "id": "tfKkOc0yaQdT",
        "colab": {
          "base_uri": "https://localhost:8080/"
        },
        "outputId": "90969bd9-d709-4c4c-ccc2-77ef8ce7f051"
      },
      "outputs": [
        {
          "output_type": "execute_result",
          "data": {
            "text/plain": [
              "{'bootstrap': 'True',\n",
              " 'classifier': 'RandomForest',\n",
              " 'criterion': 'entropy',\n",
              " 'max_depth': 30.235252638494895,\n",
              " 'max_features': 'sqrt',\n",
              " 'max_leaf_nodes': 3412,\n",
              " 'n_estimators': 1570}"
            ]
          },
          "metadata": {},
          "execution_count": 110
        }
      ],
      "source": [
        "study.best_params"
      ]
    },
    {
      "cell_type": "code",
      "execution_count": null,
      "metadata": {
        "id": "gp44TjfQaWdC",
        "colab": {
          "base_uri": "https://localhost:8080/"
        },
        "outputId": "d226a907-0f96-460e-e35c-0676bc7d66fc"
      },
      "outputs": [
        {
          "output_type": "stream",
          "name": "stdout",
          "text": [
            "F1: 0.92 (+/- 0.13)\n"
          ]
        }
      ],
      "source": [
        "# Running model with the Best Parameters provided by Optuna\n",
        "clf_rf3 = RandomForestClassifier(\n",
        "    n_estimators=1570,max_depth=30, max_features='sqrt', max_leaf_nodes=3412, criterion = 'entropy' )\n",
        "\n",
        "clf_rf3.fit(X_train, y_train) # using full X_train dataset as the feature seection did not provide any promising results\n",
        "\n",
        "\n",
        "scores3 = cross_val_score(clf_rf3, X_train, y_train, cv=10, scoring='f1_macro')\n",
        "\n",
        "scores3\n",
        "print(\"F1: %0.2f (+/- %0.2f)\" % (scores3.mean(), scores1.std() * 2))"
      ]
    },
    {
      "cell_type": "markdown",
      "metadata": {
        "id": "3raNQ-2ObSq5"
      },
      "source": [
        "# Using another Hyperparameter Optimization Method : Bayesian Optimization"
      ]
    },
    {
      "cell_type": "code",
      "execution_count": null,
      "metadata": {
        "id": "E9EG6rwybRa1"
      },
      "outputs": [],
      "source": [
        "from hyperopt import hp,fmin,tpe,STATUS_OK,Trials\n",
        "space = {'criterion': hp.choice('criterion', ['entropy', 'gini']),\n",
        "        'max_depth': hp.quniform('max_depth', 10, 1200, 10),\n",
        "        'max_features': hp.choice('max_features', ['auto', 'sqrt','log2', None]),\n",
        "        'min_samples_leaf': hp.uniform('min_samples_leaf', 0, 0.5),\n",
        "        'min_samples_split' : hp.uniform ('min_samples_split', 0, 1),\n",
        "        'n_estimators' : hp.choice('n_estimators', [10, 50, 300, 750, 1200,1300,1500])\n",
        "    }"
      ]
    },
    {
      "cell_type": "code",
      "execution_count": null,
      "metadata": {
        "id": "FCY0tJPhbnsh"
      },
      "outputs": [],
      "source": [
        "def objective(space):\n",
        "    model = RandomForestClassifier(criterion = space['criterion'], max_depth = space['max_depth'],\n",
        "                                 max_features = space['max_features'],\n",
        "                                 min_samples_leaf = space['min_samples_leaf'],\n",
        "                                 min_samples_split = space['min_samples_split'],\n",
        "                                 n_estimators = space['n_estimators'], \n",
        "                                 )\n",
        "    \n",
        "    accuracy = cross_val_score(model, X_train, y_train, cv = 10).mean()\n",
        "\n",
        "    # We aim to maximize accuracy, therefore we return it as a negative value\n",
        "    return {'loss': -accuracy, 'status': STATUS_OK }"
      ]
    },
    {
      "cell_type": "code",
      "execution_count": null,
      "metadata": {
        "id": "Kux_T_ksbyPl",
        "colab": {
          "base_uri": "https://localhost:8080/"
        },
        "outputId": "724fbd26-29e3-4e4b-8dcc-921ddb6ae489"
      },
      "outputs": [
        {
          "output_type": "stream",
          "name": "stdout",
          "text": [
            "100%|██████████| 100/100 [44:03<00:00, 26.43s/it, best loss: -0.8919932998324958]\n"
          ]
        },
        {
          "output_type": "execute_result",
          "data": {
            "text/plain": [
              "{'criterion': 0,\n",
              " 'max_depth': 800.0,\n",
              " 'max_features': 3,\n",
              " 'min_samples_leaf': 0.002580685221621394,\n",
              " 'min_samples_split': 0.006653579816332363,\n",
              " 'n_estimators': 3}"
            ]
          },
          "metadata": {},
          "execution_count": 88
        }
      ],
      "source": [
        "from sklearn.model_selection import cross_val_score\n",
        "trials = Trials()\n",
        "best = fmin(fn= objective,\n",
        "            space= space,\n",
        "            algo= tpe.suggest,\n",
        "            max_evals = 100,\n",
        "            trials= trials)\n",
        "best"
      ]
    },
    {
      "cell_type": "code",
      "execution_count": null,
      "metadata": {
        "id": "lEFuQT84cLgF",
        "colab": {
          "base_uri": "https://localhost:8080/"
        },
        "outputId": "aac1e3b7-47de-474b-da63-a0addf636a73"
      },
      "outputs": [
        {
          "output_type": "stream",
          "name": "stdout",
          "text": [
            "entropy\n",
            "None\n",
            "750\n"
          ]
        }
      ],
      "source": [
        "crit = {0: 'entropy', 1: 'gini'}\n",
        "feat = {0: 'auto', 1: 'sqrt', 2: 'log2', 3: None}\n",
        "est = {0: 10, 1: 50, 2: 300, 3: 750, 4: 1200,5:1300,6:1500}\n",
        "\n",
        "\n",
        "print(crit[best['criterion']])\n",
        "print(feat[best['max_features']])\n",
        "print(est[best['n_estimators']])"
      ]
    },
    {
      "cell_type": "code",
      "execution_count": null,
      "metadata": {
        "id": "5JE75FYviQGU",
        "colab": {
          "base_uri": "https://localhost:8080/"
        },
        "outputId": "8625ad0a-21de-49cc-8256-6dbd868cd55c"
      },
      "outputs": [
        {
          "output_type": "stream",
          "name": "stdout",
          "text": [
            "F1: 0.89 (+/- 0.13)\n"
          ]
        }
      ],
      "source": [
        "\n",
        "# Running model with the Best Parameters provided by Bayesian Optimization\n",
        "clf_rf4 = RandomForestClassifier(criterion = crit[best['criterion']], max_depth = best['max_depth'], \n",
        "                                       max_features = feat[best['max_features']], \n",
        "                                       min_samples_leaf = best['min_samples_leaf'], \n",
        "                                       min_samples_split = best['min_samples_split'], \n",
        "                                       n_estimators = est[best['n_estimators']])\n",
        "clf_rf4.fit(X_train, y_train)\n",
        "\n",
        "\n",
        "scores4 = cross_val_score(clf_rf4, X_train, y_train, cv=10, scoring='f1_macro')\n",
        "\n",
        "scores4\n",
        "print(\"F1: %0.2f (+/- %0.2f)\" % (scores4.mean(), scores1.std() * 2))"
      ]
    },
    {
      "cell_type": "markdown",
      "metadata": {
        "id": "vsaOP0BdjUxB"
      },
      "source": [
        "# Comparison of Step 3 and  Step 4\n",
        "\n",
        "## 1% enhancement in F1 Score observed by using Optuna\n",
        "\n",
        "\n",
        "*   F1 Score increased from **0.91** to **0.92**\n",
        "*   I used 2 approaches for Hyper Parameter Optimization:\n",
        "1. **Optuna**\n",
        "2. **Bayesian Optimization**\n",
        "*   Optuna increased the mean F1 Score by 1%\n",
        "*   Bayesian Optimization did not bring any enhancements to the model\n",
        "\n"
      ]
    },
    {
      "cell_type": "markdown",
      "metadata": {
        "id": "Te9gGGLEpXRG"
      },
      "source": [
        "## 3.5: Performance estimation"
      ]
    },
    {
      "cell_type": "code",
      "execution_count": null,
      "metadata": {
        "id": "YV_35bEupbfs"
      },
      "outputs": [],
      "source": [
        "#Transforming X_test by performing all the Preprocessing steps applied on X_train\n",
        "\n",
        "X_test['DateOfBirth'] = pd.to_datetime(X_test['DateOfBirth'], errors='coerce')\n",
        "X_test['Age'] = X_test['DateOfBirth'].apply(calculate_age)"
      ]
    },
    {
      "cell_type": "code",
      "execution_count": null,
      "metadata": {
        "id": "0Z1bgFXtmXeB"
      },
      "outputs": [],
      "source": [
        "# one hot encoding the feature Purpose\n",
        "X_test = pd.concat([X_test, pd.get_dummies(X_test['Purpose'], prefix='Purpose')], axis=1)"
      ]
    },
    {
      "cell_type": "code",
      "execution_count": null,
      "metadata": {
        "id": "c8nPjjXDmtY0"
      },
      "outputs": [],
      "source": [
        "# removing unnecessary features\n",
        "X_test.drop([ 'UserID', 'FirstName', 'LastName', 'Street', 'LicensePlate', 'City', 'DateOfBirth', 'Purpose', 'NumberPets'],axis=1, inplace=True)"
      ]
    },
    {
      "cell_type": "code",
      "execution_count": null,
      "metadata": {
        "id": "c5-Y1uYTm4_y"
      },
      "outputs": [],
      "source": [
        "# Label encoding \"Sex\" column\n",
        "X_test['Sex'] = X_test['Sex'].map( {'M':1, 'F':0} )"
      ]
    },
    {
      "cell_type": "code",
      "execution_count": null,
      "metadata": {
        "id": "es4NC7oQnGQd"
      },
      "outputs": [],
      "source": [
        "# Scaling\n",
        "X_test = rb.fit_transform(X_test)"
      ]
    },
    {
      "cell_type": "code",
      "execution_count": null,
      "metadata": {
        "id": "8qW_sPzynV7X"
      },
      "outputs": [],
      "source": [
        "X_test = pd.DataFrame(data= X_test, columns = [\t'Sex'\t,'PreviousDefault',\t'PreviousAccounts',\t'ResidenceDuration',\t'Amount',\t'Married',\t'Duration',\t'Age', 'Purpose_Business',\t'Purpose_Education',\t'Purpose_Household',\t'Purpose_NewCar',\t'Purpose_Other',\t'Purpose_Repair',\t'Purpose_UsedCar',\t'Purpose_Vacation'])\n"
      ]
    },
    {
      "cell_type": "code",
      "execution_count": null,
      "metadata": {
        "id": "xOmu01tXnjpF"
      },
      "outputs": [],
      "source": [
        "# Making the final Predictions using the model provided by Optuna\n",
        "\n",
        "y_pred_dt = clf_rf3.predict(X_test)"
      ]
    },
    {
      "cell_type": "code",
      "execution_count": null,
      "metadata": {
        "id": "KhFcquEHpW9n",
        "colab": {
          "base_uri": "https://localhost:8080/"
        },
        "outputId": "5ab81a00-6814-4d4f-99dc-4ed2274ea76b"
      },
      "outputs": [
        {
          "output_type": "stream",
          "name": "stdout",
          "text": [
            "Confusion matrix : \n",
            " [[184  25]\n",
            " [236 755]]\n"
          ]
        }
      ],
      "source": [
        "from sklearn.metrics import confusion_matrix\n",
        "from sklearn.metrics import classification_report\n",
        "\n",
        "# confusion matrix\n",
        "matrix = confusion_matrix(y_test,y_pred_dt, labels=[1,0])\n",
        "print('Confusion matrix : \\n',matrix)"
      ]
    },
    {
      "cell_type": "code",
      "execution_count": null,
      "metadata": {
        "id": "OrdishvXn28q",
        "colab": {
          "base_uri": "https://localhost:8080/"
        },
        "outputId": "eade4634-a40c-4086-80b4-600750785744"
      },
      "outputs": [
        {
          "output_type": "stream",
          "name": "stdout",
          "text": [
            "Classification report : \n",
            "               precision    recall  f1-score   support\n",
            "\n",
            "           1       0.44      0.88      0.59       209\n",
            "           0       0.97      0.76      0.85       991\n",
            "\n",
            "    accuracy                           0.78      1200\n",
            "   macro avg       0.70      0.82      0.72      1200\n",
            "weighted avg       0.88      0.78      0.81      1200\n",
            "\n"
          ]
        }
      ],
      "source": [
        "# classification report for precision, recall f1-score and accuracy\n",
        "matrix = classification_report(y_test,y_pred_dt,labels=[1,0])\n",
        "print('Classification report : \\n',matrix)"
      ]
    },
    {
      "cell_type": "markdown",
      "metadata": {
        "id": "mBf0VISxsk46"
      },
      "source": [
        "## How well did we do?\n",
        "\n",
        "\n",
        "1.   Looking at the Confusion Matrix, the number of False Postives and False Negatives is pretty less than True Postives and True negatives respectively, which might be a good thing in this case, as you wouldnt want to give someone a credit card with Bad Credit. \n",
        "2.   Even though you might be missing on some customers, but it would save you from the risk from bad customers defaulting the credit card payments\n",
        "\n",
        "\n"
      ]
    },
    {
      "cell_type": "markdown",
      "metadata": {
        "id": "bPiErnUaTQSk"
      },
      "source": [
        "# Question 4: Uncle Steve's Wind Farm"
      ]
    },
    {
      "cell_type": "markdown",
      "metadata": {
        "id": "NzLLQCmKTk9E"
      },
      "source": [
        "## Instructions\n",
        "\n",
        "\n",
        "Uncle Steve has invested in wind. He's built a BIG wind farm with a total of  700 turbines. He's been running the farm for a couple of years now and things are going well. He sells the power generated by the farm to the Kingston government and makes a tidy profit. And, of course, he has been gathering data about the turbines' operations.\n",
        "\n",
        "One area of concern, however, is the cost of maintenece. While the turbines are fairly robust, it seems like one breaks/fails every couple of days. When a turbine fails, it usually costs around \\$20,000 to repair it. Yikes!\n",
        "\n",
        "Currently, Uncle Steve is not doing any preventative maintenance. He just waits until a turbine fails, and then he fixes it. But Uncle Steve has recently learned that if he services a turbine *before* it fails, it will only cost around $2,000. \n",
        "\n",
        "Obviously, there is a potential to save a lot of money here. But first, Uncle Steve would need to figure out *which* turbines are about to fail. Uncle Steve being Uncle Steve, he wants to use ML to build a predictive maintenance model. The model will alert Uncle Steve to potential turbine failures before they happen, giving Uncle Steve a chance to perform an inspection on the turbine and then fix the turbine before it fails. Uncle Steve plans to run the model every morning. For all the turbines that the model predicts will fail, Uncle Steve will order an inspection (which cost a flat \\$500, no matter if the turbine was in good health or not; the \\$500 would not be part of the $2,000 service cost). For the rest of the turbines, Uncle Steve will do nothing.\n",
        "\n",
        "Uncle Steve has used the last few year's worth of operation data to build and assess a model to predict which turbines will fail on any given day. (The data includes useful features like sensor readings, power output, weather, and many more, but those are not important for now.) In fact, he didn't stop there: he built and assessed two models. One model uses using deep learning (in this case, RNNs), and the other uses random forests.\n",
        "\n",
        "He's tuned the bejeebers out of each model and is comfortable that he has found the best-performing version of each. Both models seem really good: both have accuracy scores > 99%. The RNN has better recall, but Uncle Steve is convinced that the random forest model will be better for him since it has better precision. Just to be sure, he has hired you to double check his calculations. \n",
        "\n",
        "**Your task**\n",
        "\n",
        " Which model will save Uncle Steve more money? Justify.\n",
        "\n",
        "\n",
        "In addition to the details above, here is the assessment of each model:\n",
        "\n",
        "- Confusion matrix for the random forest:\n",
        "\n",
        "|         | Predicted Fail           | Predicted No Fail  |\n",
        "| ------------- |------------| -----:|\n",
        "| **Actual Fail**      | 201 | 55 |\n",
        "| **Actual No Fail**   | 50 | 255195 |\n",
        "\n",
        "- Confusion matrix for the RNN:\n",
        "\n",
        "|         | Predicted Fail           | Predicted No Fail  |\n",
        "| ------------- |------------| -----:|\n",
        "| **Actual Fail**      | 226 | 30 |\n",
        "| **Actual No Fail**   | 1200 | 254045 |\n",
        "\n",
        "\n",
        "**Marking**\n",
        "\n",
        "- *Quality*. Response is well-justified and convincing. \n",
        "- *Style*. Response uses proper grammar, spelling, and punctuation. Response is clear and professional. Response is complete, but not overly-verbose. Response follows length guidelines.\n",
        "\n",
        "\n",
        "\n",
        "**Tips**\n",
        "\n",
        "- Figure out how much Uncle Steve is currently (i.e., without any predictive maintinance models) paying in maintenance costs.\n",
        "- Use the information provided above to create a cost matrix.\n",
        "- Use the cost matrix and the confusion matrices to determine the costs of each model.\n",
        "- The cost of an inspection is the same, no matter if the turbine is in good condition or is about to fail.\n",
        "- If the inspection determines that a turbine is about to fail, then it will be fixed right then and there for the additional fee.\n",
        "- For simplicity, assume the inspections are perfect: i.e., that inspecting a turbine will definitely catch any problems that might exist, and won't accidentally flag an otherwise-healthy turbine.\n",
        "\n"
      ]
    },
    {
      "cell_type": "markdown",
      "metadata": {
        "id": "nAf1SIeKTkfl"
      },
      "source": [
        "**Question**:  How much Uncle Steve is currently (i.e., without any predictive maintinance models) paying in maintenance costs : \n",
        "  **5120000**\n",
        "\n",
        "\n",
        "**Question**: Use the information provided above to create a cost matrix.\n",
        " \n",
        " **Confusion matrix for the RANDOM FORESTS** :  \n",
        "\n",
        "|         | Predicted Fail           | Predicted No Fail  |        \n",
        "| ------------- |------------| -----:|\n",
        "| **Actual Fail**      | 201 | 55 |\n",
        "| **Actual No Fail**   | 50 | 255195 |\n",
        "\n",
        "                                                                COST\n",
        "\n",
        "|         | Predicted Fail           | Predicted No Fail  |     \n",
        "| ------------- |------------| -----:|\n",
        "| **Actual Fail**      | 2500 | 20000 |\n",
        "| **Actual No Fail**   | 500 | 0 |\n",
        "\n",
        "\n",
        "                                                               TOTAL COST\n",
        "|         | Predicted Fail           | Predicted No Fail  |    \n",
        "| ------------- |------------| -----:|\n",
        "| **Actual Fail**      | 502000 | 1100000 |\n",
        "| **Actual No Fail**   | 25000 | 0 |\n",
        "\n",
        "Total Cost Using RANDOM FORESTS= 502000 + 1100000 + 2500 = **1627500**\n",
        "\n",
        "#######################################################################################################\n",
        "\n",
        "**Confusion matrix for the RNN:**\n",
        "\n",
        "\n",
        "|         | Predicted Fail           | Predicted No Fail  |\n",
        "| ------------- |------------| -----:|\n",
        "| **Actual Fail**      | 226 | 30 |\n",
        "| **Actual No Fail**   | 1200 | 254045 |\n",
        "\n",
        "                                                                COST\n",
        "\n",
        "|         | Predicted Fail           | Predicted No Fail  |     \n",
        "| ------------- |------------| -----:|\n",
        "| **Actual Fail**      | 2500 | 20000 |\n",
        "| **Actual No Fail**   | 500 | 0 |\n",
        "\n",
        "\n",
        "                                                               TOTAL COST\n",
        "|         | Predicted Fail           | Predicted No Fail  |    \n",
        "| ------------- |------------| -----:|\n",
        "| **Actual Fail**      | 565000 | 600000 |\n",
        "| **Actual No Fail**   | 600000 | 0 |\n",
        "\n",
        "Total Cost Using RNN = 565000 + 600000 + 600000 = **1765000**\n",
        "\n",
        "#######################################################################################################\n",
        "\n",
        "**Using NO Predictive Models:**\n",
        "\n",
        "\n",
        "|         |  Fail           |  |\n",
        "| ------------- |------------| -----:|\n",
        "| **Actual Fail**      | 256  |\n",
        "| **Actual No Fail**   | 255245 |\n",
        "\n",
        "Cost of Fixing after Actual Failure = 256 * 20000 = **5120000**\n",
        "\n",
        "#######################################################################################################\n",
        "\n",
        "Which model will save Uncle Steve more money? Justify.\n",
        "\n",
        "Random Forests would save Uncle Steve more money. It is a little better than RNN because it predicts the larger number of True Negatives, hence saving more in the maintainance costs. Also, the"
      ]
    }
  ],
  "metadata": {
    "colab": {
      "collapsed_sections": [],
      "name": "Copy of MMA/GMMA 2022 869 Individual Assignment.ipynb",
      "provenance": []
    },
    "kernelspec": {
      "display_name": "Python 3",
      "name": "python3"
    }
  },
  "nbformat": 4,
  "nbformat_minor": 0
}